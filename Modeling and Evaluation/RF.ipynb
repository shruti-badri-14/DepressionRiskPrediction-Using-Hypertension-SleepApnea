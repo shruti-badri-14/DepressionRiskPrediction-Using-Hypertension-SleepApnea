{
 "cells": [
  {
   "cell_type": "code",
   "execution_count": 1,
   "id": "f1193510-a4d6-43c6-9a37-684da0d0bad1",
   "metadata": {
    "executionInfo": {
     "elapsed": 4,
     "status": "ok",
     "timestamp": 1714494684116,
     "user": {
      "displayName": "Ann Maria John",
      "userId": "16447527053390695599"
     },
     "user_tz": 420
    },
    "id": "f1193510-a4d6-43c6-9a37-684da0d0bad1",
    "tags": []
   },
   "outputs": [],
   "source": [
    "import os\n",
    "import numpy as np\n",
    "import pandas as pd\n",
    "import seaborn as sns\n",
    "import matplotlib.pyplot as plt\n",
    "\n",
    "import warnings\n",
    "\n",
    "# Ignore all warnings\n",
    "warnings.filterwarnings(\"ignore\")\n",
    "\n",
    "# Globally setting print options\n",
    "pd.set_option('display.max_columns', None)\n",
    "pd.set_option('display.max_rows', None)"
   ]
  },
  {
   "cell_type": "code",
   "execution_count": 2,
   "id": "6a695f47-bedd-4480-9f3e-58eb8bac4e3f",
   "metadata": {
    "colab": {
     "base_uri": "https://localhost:8080/",
     "height": 258
    },
    "executionInfo": {
     "elapsed": 3,
     "status": "ok",
     "timestamp": 1714494684116,
     "user": {
      "displayName": "Ann Maria John",
      "userId": "16447527053390695599"
     },
     "user_tz": 420
    },
    "id": "6a695f47-bedd-4480-9f3e-58eb8bac4e3f",
    "outputId": "05bbec4a-1300-4563-efd8-7e1dafa36dc6",
    "tags": []
   },
   "outputs": [
    {
     "data": {
      "text/html": [
       "<div>\n",
       "<style scoped>\n",
       "    .dataframe tbody tr th:only-of-type {\n",
       "        vertical-align: middle;\n",
       "    }\n",
       "\n",
       "    .dataframe tbody tr th {\n",
       "        vertical-align: top;\n",
       "    }\n",
       "\n",
       "    .dataframe thead th {\n",
       "        text-align: right;\n",
       "    }\n",
       "</style>\n",
       "<table border=\"1\" class=\"dataframe\">\n",
       "  <thead>\n",
       "    <tr style=\"text-align: right;\">\n",
       "      <th></th>\n",
       "      <th>Little_interest_in_doing_things</th>\n",
       "      <th>Feeling_down_or_depressed</th>\n",
       "      <th>Trouble_sleeping_or_sleeping_too_much</th>\n",
       "      <th>Feeling_tired_or_having_little_energy</th>\n",
       "      <th>Poor_appetite_or_overeating</th>\n",
       "      <th>Feeling_bad_about_yourself</th>\n",
       "      <th>Trouble_concentrating_on_things</th>\n",
       "      <th>Moving_or_speaking_slowly_or_too_fast</th>\n",
       "      <th>Thought_you_would_be_better_off_dead</th>\n",
       "      <th>No_of_hours_you_sleep</th>\n",
       "      <th>How_often_do_you_snore</th>\n",
       "      <th>How_often_do_you_snort/stop_breathing</th>\n",
       "      <th>trouble_sleeping</th>\n",
       "      <th>Sleep_Apnea</th>\n",
       "      <th>Blood_pressure</th>\n",
       "      <th>Taking_Medication_for_HBP</th>\n",
       "      <th>current_drinker</th>\n",
       "      <th>past_drinker</th>\n",
       "      <th>current_smoker</th>\n",
       "      <th>past_smoker</th>\n",
       "      <th>Gender</th>\n",
       "      <th>Age</th>\n",
       "      <th>Education_Level</th>\n",
       "      <th>Pregnant</th>\n",
       "      <th>PIR</th>\n",
       "      <th>Race_Non-Hispanic Black</th>\n",
       "      <th>Race_Non-Hispanic White</th>\n",
       "      <th>Race_Other Hispanic</th>\n",
       "      <th>Marital_Status_Married/Living with Partner</th>\n",
       "      <th>Marital_Status_Never Married</th>\n",
       "      <th>depression_category</th>\n",
       "    </tr>\n",
       "  </thead>\n",
       "  <tbody>\n",
       "    <tr>\n",
       "      <th>0</th>\n",
       "      <td>0.0</td>\n",
       "      <td>0.0</td>\n",
       "      <td>0.0</td>\n",
       "      <td>0.0</td>\n",
       "      <td>0.0</td>\n",
       "      <td>0.0</td>\n",
       "      <td>0.0</td>\n",
       "      <td>0.0</td>\n",
       "      <td>0.0</td>\n",
       "      <td>8.0</td>\n",
       "      <td>0.0</td>\n",
       "      <td>0.0</td>\n",
       "      <td>0.0</td>\n",
       "      <td>0.0</td>\n",
       "      <td>1.0</td>\n",
       "      <td>1.0</td>\n",
       "      <td>0.0</td>\n",
       "      <td>0.0</td>\n",
       "      <td>0</td>\n",
       "      <td>0</td>\n",
       "      <td>2</td>\n",
       "      <td>85</td>\n",
       "      <td>3</td>\n",
       "      <td>0.0</td>\n",
       "      <td>1.99</td>\n",
       "      <td>0</td>\n",
       "      <td>1</td>\n",
       "      <td>0</td>\n",
       "      <td>0</td>\n",
       "      <td>0</td>\n",
       "      <td>0</td>\n",
       "    </tr>\n",
       "    <tr>\n",
       "      <th>1</th>\n",
       "      <td>0.0</td>\n",
       "      <td>0.0</td>\n",
       "      <td>0.0</td>\n",
       "      <td>0.0</td>\n",
       "      <td>0.0</td>\n",
       "      <td>0.0</td>\n",
       "      <td>0.0</td>\n",
       "      <td>0.0</td>\n",
       "      <td>0.0</td>\n",
       "      <td>9.0</td>\n",
       "      <td>1.0</td>\n",
       "      <td>0.0</td>\n",
       "      <td>0.0</td>\n",
       "      <td>0.0</td>\n",
       "      <td>1.0</td>\n",
       "      <td>1.0</td>\n",
       "      <td>0.0</td>\n",
       "      <td>1.0</td>\n",
       "      <td>0</td>\n",
       "      <td>0</td>\n",
       "      <td>2</td>\n",
       "      <td>44</td>\n",
       "      <td>3</td>\n",
       "      <td>0.0</td>\n",
       "      <td>4.65</td>\n",
       "      <td>0</td>\n",
       "      <td>1</td>\n",
       "      <td>0</td>\n",
       "      <td>1</td>\n",
       "      <td>0</td>\n",
       "      <td>0</td>\n",
       "    </tr>\n",
       "    <tr>\n",
       "      <th>2</th>\n",
       "      <td>0.0</td>\n",
       "      <td>0.0</td>\n",
       "      <td>0.0</td>\n",
       "      <td>0.0</td>\n",
       "      <td>0.0</td>\n",
       "      <td>0.0</td>\n",
       "      <td>0.0</td>\n",
       "      <td>0.0</td>\n",
       "      <td>0.0</td>\n",
       "      <td>7.0</td>\n",
       "      <td>3.0</td>\n",
       "      <td>0.0</td>\n",
       "      <td>0.0</td>\n",
       "      <td>0.0</td>\n",
       "      <td>1.0</td>\n",
       "      <td>1.0</td>\n",
       "      <td>1.0</td>\n",
       "      <td>0.0</td>\n",
       "      <td>0</td>\n",
       "      <td>0</td>\n",
       "      <td>1</td>\n",
       "      <td>70</td>\n",
       "      <td>4</td>\n",
       "      <td>0.0</td>\n",
       "      <td>5.00</td>\n",
       "      <td>0</td>\n",
       "      <td>1</td>\n",
       "      <td>0</td>\n",
       "      <td>1</td>\n",
       "      <td>0</td>\n",
       "      <td>0</td>\n",
       "    </tr>\n",
       "    <tr>\n",
       "      <th>3</th>\n",
       "      <td>0.0</td>\n",
       "      <td>0.0</td>\n",
       "      <td>0.0</td>\n",
       "      <td>0.0</td>\n",
       "      <td>0.0</td>\n",
       "      <td>0.0</td>\n",
       "      <td>0.0</td>\n",
       "      <td>0.0</td>\n",
       "      <td>0.0</td>\n",
       "      <td>7.0</td>\n",
       "      <td>0.0</td>\n",
       "      <td>0.0</td>\n",
       "      <td>1.0</td>\n",
       "      <td>0.0</td>\n",
       "      <td>1.0</td>\n",
       "      <td>1.0</td>\n",
       "      <td>1.0</td>\n",
       "      <td>0.0</td>\n",
       "      <td>0</td>\n",
       "      <td>0</td>\n",
       "      <td>1</td>\n",
       "      <td>73</td>\n",
       "      <td>2</td>\n",
       "      <td>0.0</td>\n",
       "      <td>2.15</td>\n",
       "      <td>0</td>\n",
       "      <td>1</td>\n",
       "      <td>0</td>\n",
       "      <td>1</td>\n",
       "      <td>0</td>\n",
       "      <td>0</td>\n",
       "    </tr>\n",
       "    <tr>\n",
       "      <th>4</th>\n",
       "      <td>0.0</td>\n",
       "      <td>0.0</td>\n",
       "      <td>0.0</td>\n",
       "      <td>0.0</td>\n",
       "      <td>0.0</td>\n",
       "      <td>0.0</td>\n",
       "      <td>0.0</td>\n",
       "      <td>0.0</td>\n",
       "      <td>0.0</td>\n",
       "      <td>8.0</td>\n",
       "      <td>0.0</td>\n",
       "      <td>0.0</td>\n",
       "      <td>0.0</td>\n",
       "      <td>0.0</td>\n",
       "      <td>1.0</td>\n",
       "      <td>1.0</td>\n",
       "      <td>1.0</td>\n",
       "      <td>0.0</td>\n",
       "      <td>0</td>\n",
       "      <td>0</td>\n",
       "      <td>1</td>\n",
       "      <td>21</td>\n",
       "      <td>2</td>\n",
       "      <td>0.0</td>\n",
       "      <td>0.46</td>\n",
       "      <td>0</td>\n",
       "      <td>1</td>\n",
       "      <td>0</td>\n",
       "      <td>0</td>\n",
       "      <td>1</td>\n",
       "      <td>0</td>\n",
       "    </tr>\n",
       "  </tbody>\n",
       "</table>\n",
       "</div>"
      ],
      "text/plain": [
       "   Little_interest_in_doing_things  Feeling_down_or_depressed  \\\n",
       "0                              0.0                        0.0   \n",
       "1                              0.0                        0.0   \n",
       "2                              0.0                        0.0   \n",
       "3                              0.0                        0.0   \n",
       "4                              0.0                        0.0   \n",
       "\n",
       "   Trouble_sleeping_or_sleeping_too_much  \\\n",
       "0                                    0.0   \n",
       "1                                    0.0   \n",
       "2                                    0.0   \n",
       "3                                    0.0   \n",
       "4                                    0.0   \n",
       "\n",
       "   Feeling_tired_or_having_little_energy  Poor_appetite_or_overeating  \\\n",
       "0                                    0.0                          0.0   \n",
       "1                                    0.0                          0.0   \n",
       "2                                    0.0                          0.0   \n",
       "3                                    0.0                          0.0   \n",
       "4                                    0.0                          0.0   \n",
       "\n",
       "   Feeling_bad_about_yourself  Trouble_concentrating_on_things  \\\n",
       "0                         0.0                              0.0   \n",
       "1                         0.0                              0.0   \n",
       "2                         0.0                              0.0   \n",
       "3                         0.0                              0.0   \n",
       "4                         0.0                              0.0   \n",
       "\n",
       "   Moving_or_speaking_slowly_or_too_fast  \\\n",
       "0                                    0.0   \n",
       "1                                    0.0   \n",
       "2                                    0.0   \n",
       "3                                    0.0   \n",
       "4                                    0.0   \n",
       "\n",
       "   Thought_you_would_be_better_off_dead  No_of_hours_you_sleep  \\\n",
       "0                                   0.0                    8.0   \n",
       "1                                   0.0                    9.0   \n",
       "2                                   0.0                    7.0   \n",
       "3                                   0.0                    7.0   \n",
       "4                                   0.0                    8.0   \n",
       "\n",
       "   How_often_do_you_snore  How_often_do_you_snort/stop_breathing  \\\n",
       "0                     0.0                                    0.0   \n",
       "1                     1.0                                    0.0   \n",
       "2                     3.0                                    0.0   \n",
       "3                     0.0                                    0.0   \n",
       "4                     0.0                                    0.0   \n",
       "\n",
       "   trouble_sleeping  Sleep_Apnea  Blood_pressure  Taking_Medication_for_HBP  \\\n",
       "0               0.0          0.0             1.0                        1.0   \n",
       "1               0.0          0.0             1.0                        1.0   \n",
       "2               0.0          0.0             1.0                        1.0   \n",
       "3               1.0          0.0             1.0                        1.0   \n",
       "4               0.0          0.0             1.0                        1.0   \n",
       "\n",
       "   current_drinker  past_drinker  current_smoker  past_smoker  Gender  Age  \\\n",
       "0              0.0           0.0               0            0       2   85   \n",
       "1              0.0           1.0               0            0       2   44   \n",
       "2              1.0           0.0               0            0       1   70   \n",
       "3              1.0           0.0               0            0       1   73   \n",
       "4              1.0           0.0               0            0       1   21   \n",
       "\n",
       "   Education_Level  Pregnant   PIR  Race_Non-Hispanic Black  \\\n",
       "0                3       0.0  1.99                        0   \n",
       "1                3       0.0  4.65                        0   \n",
       "2                4       0.0  5.00                        0   \n",
       "3                2       0.0  2.15                        0   \n",
       "4                2       0.0  0.46                        0   \n",
       "\n",
       "   Race_Non-Hispanic White  Race_Other Hispanic  \\\n",
       "0                        1                    0   \n",
       "1                        1                    0   \n",
       "2                        1                    0   \n",
       "3                        1                    0   \n",
       "4                        1                    0   \n",
       "\n",
       "   Marital_Status_Married/Living with Partner  Marital_Status_Never Married  \\\n",
       "0                                           0                             0   \n",
       "1                                           1                             0   \n",
       "2                                           1                             0   \n",
       "3                                           1                             0   \n",
       "4                                           0                             1   \n",
       "\n",
       "   depression_category  \n",
       "0                    0  \n",
       "1                    0  \n",
       "2                    0  \n",
       "3                    0  \n",
       "4                    0  "
      ]
     },
     "execution_count": 2,
     "metadata": {},
     "output_type": "execute_result"
    }
   ],
   "source": [
    "data = pd.read_csv('preprocessed_data.csv')\n",
    "data.head()"
   ]
  },
  {
   "cell_type": "code",
   "execution_count": 3,
   "id": "4c91397b-f9d4-486c-bebd-548785654de4",
   "metadata": {
    "colab": {
     "base_uri": "https://localhost:8080/"
    },
    "executionInfo": {
     "elapsed": 3,
     "status": "ok",
     "timestamp": 1714494684382,
     "user": {
      "displayName": "Ann Maria John",
      "userId": "16447527053390695599"
     },
     "user_tz": 420
    },
    "id": "4c91397b-f9d4-486c-bebd-548785654de4",
    "outputId": "5dd5f9c3-2d6f-4732-98b3-420ddfd3419e",
    "tags": []
   },
   "outputs": [
    {
     "data": {
      "text/plain": [
       "(24108, 31)"
      ]
     },
     "execution_count": 3,
     "metadata": {},
     "output_type": "execute_result"
    }
   ],
   "source": [
    "data.shape"
   ]
  },
  {
   "cell_type": "code",
   "execution_count": 4,
   "id": "63a18549-d489-42dd-bcc9-380a3d301714",
   "metadata": {
    "colab": {
     "base_uri": "https://localhost:8080/"
    },
    "executionInfo": {
     "elapsed": 3,
     "status": "ok",
     "timestamp": 1714494684383,
     "user": {
      "displayName": "Ann Maria John",
      "userId": "16447527053390695599"
     },
     "user_tz": 420
    },
    "id": "63a18549-d489-42dd-bcc9-380a3d301714",
    "outputId": "4ae1033b-36d0-4edb-a91e-85f898ee12c4",
    "tags": []
   },
   "outputs": [
    {
     "name": "stdout",
     "output_type": "stream",
     "text": [
      "<class 'pandas.core.frame.DataFrame'>\n",
      "RangeIndex: 24108 entries, 0 to 24107\n",
      "Data columns (total 31 columns):\n",
      " #   Column                                      Non-Null Count  Dtype  \n",
      "---  ------                                      --------------  -----  \n",
      " 0   Little_interest_in_doing_things             24108 non-null  float64\n",
      " 1   Feeling_down_or_depressed                   24108 non-null  float64\n",
      " 2   Trouble_sleeping_or_sleeping_too_much       24108 non-null  float64\n",
      " 3   Feeling_tired_or_having_little_energy       24108 non-null  float64\n",
      " 4   Poor_appetite_or_overeating                 24108 non-null  float64\n",
      " 5   Feeling_bad_about_yourself                  24108 non-null  float64\n",
      " 6   Trouble_concentrating_on_things             24108 non-null  float64\n",
      " 7   Moving_or_speaking_slowly_or_too_fast       24108 non-null  float64\n",
      " 8   Thought_you_would_be_better_off_dead        24108 non-null  float64\n",
      " 9   No_of_hours_you_sleep                       24108 non-null  float64\n",
      " 10  How_often_do_you_snore                      24108 non-null  float64\n",
      " 11  How_often_do_you_snort/stop_breathing       24108 non-null  float64\n",
      " 12  trouble_sleeping                            24108 non-null  float64\n",
      " 13  Sleep_Apnea                                 24108 non-null  float64\n",
      " 14  Blood_pressure                              24108 non-null  float64\n",
      " 15  Taking_Medication_for_HBP                   24108 non-null  float64\n",
      " 16  current_drinker                             24108 non-null  float64\n",
      " 17  past_drinker                                24108 non-null  float64\n",
      " 18  current_smoker                              24108 non-null  int64  \n",
      " 19  past_smoker                                 24108 non-null  int64  \n",
      " 20  Gender                                      24108 non-null  int64  \n",
      " 21  Age                                         24108 non-null  int64  \n",
      " 22  Education_Level                             24108 non-null  int64  \n",
      " 23  Pregnant                                    24108 non-null  float64\n",
      " 24  PIR                                         24108 non-null  float64\n",
      " 25  Race_Non-Hispanic Black                     24108 non-null  int64  \n",
      " 26  Race_Non-Hispanic White                     24108 non-null  int64  \n",
      " 27  Race_Other Hispanic                         24108 non-null  int64  \n",
      " 28  Marital_Status_Married/Living with Partner  24108 non-null  int64  \n",
      " 29  Marital_Status_Never Married                24108 non-null  int64  \n",
      " 30  depression_category                         24108 non-null  int64  \n",
      "dtypes: float64(20), int64(11)\n",
      "memory usage: 5.7 MB\n"
     ]
    }
   ],
   "source": [
    "data.info()"
   ]
  },
  {
   "cell_type": "code",
   "execution_count": 5,
   "id": "97c3c59c-ea79-499e-b7ee-9f3ad330b99a",
   "metadata": {
    "colab": {
     "base_uri": "https://localhost:8080/"
    },
    "executionInfo": {
     "elapsed": 2,
     "status": "ok",
     "timestamp": 1714494684600,
     "user": {
      "displayName": "Ann Maria John",
      "userId": "16447527053390695599"
     },
     "user_tz": 420
    },
    "id": "97c3c59c-ea79-499e-b7ee-9f3ad330b99a",
    "outputId": "7a98b8a8-8c4f-483e-837a-e0535adbb544",
    "tags": []
   },
   "outputs": [
    {
     "data": {
      "text/plain": [
       "27"
      ]
     },
     "execution_count": 5,
     "metadata": {},
     "output_type": "execute_result"
    }
   ],
   "source": [
    "# Check for duplicates\n",
    "\n",
    "data.duplicated().sum()"
   ]
  },
  {
   "cell_type": "code",
   "execution_count": 6,
   "id": "rQsIQlyVvhjL",
   "metadata": {
    "executionInfo": {
     "elapsed": 1,
     "status": "ok",
     "timestamp": 1714494685324,
     "user": {
      "displayName": "Ann Maria John",
      "userId": "16447527053390695599"
     },
     "user_tz": 420
    },
    "id": "rQsIQlyVvhjL",
    "tags": []
   },
   "outputs": [],
   "source": [
    "# Remove duplicate rows\n",
    "data = data.drop_duplicates()"
   ]
  },
  {
   "cell_type": "code",
   "execution_count": 7,
   "id": "ZygVx5EnvnT4",
   "metadata": {
    "colab": {
     "base_uri": "https://localhost:8080/"
    },
    "executionInfo": {
     "elapsed": 2,
     "status": "ok",
     "timestamp": 1714494685606,
     "user": {
      "displayName": "Ann Maria John",
      "userId": "16447527053390695599"
     },
     "user_tz": 420
    },
    "id": "ZygVx5EnvnT4",
    "outputId": "6c3695d5-c330-4b9c-d2e5-701aa78ec68c",
    "tags": []
   },
   "outputs": [
    {
     "data": {
      "text/plain": [
       "0"
      ]
     },
     "execution_count": 7,
     "metadata": {},
     "output_type": "execute_result"
    }
   ],
   "source": [
    "data.duplicated().sum()"
   ]
  },
  {
   "cell_type": "code",
   "execution_count": 8,
   "id": "6b11426e-63df-454f-ae65-5e8c72573fad",
   "metadata": {
    "colab": {
     "base_uri": "https://localhost:8080/"
    },
    "executionInfo": {
     "elapsed": 3,
     "status": "ok",
     "timestamp": 1714494686448,
     "user": {
      "displayName": "Ann Maria John",
      "userId": "16447527053390695599"
     },
     "user_tz": 420
    },
    "id": "6b11426e-63df-454f-ae65-5e8c72573fad",
    "outputId": "a15273d5-0baf-4c7e-a583-9f629e70cc04",
    "tags": []
   },
   "outputs": [
    {
     "data": {
      "text/plain": [
       "Little_interest_in_doing_things               0\n",
       "Feeling_down_or_depressed                     0\n",
       "Trouble_sleeping_or_sleeping_too_much         0\n",
       "Feeling_tired_or_having_little_energy         0\n",
       "Poor_appetite_or_overeating                   0\n",
       "Feeling_bad_about_yourself                    0\n",
       "Trouble_concentrating_on_things               0\n",
       "Moving_or_speaking_slowly_or_too_fast         0\n",
       "Thought_you_would_be_better_off_dead          0\n",
       "No_of_hours_you_sleep                         0\n",
       "How_often_do_you_snore                        0\n",
       "How_often_do_you_snort/stop_breathing         0\n",
       "trouble_sleeping                              0\n",
       "Sleep_Apnea                                   0\n",
       "Blood_pressure                                0\n",
       "Taking_Medication_for_HBP                     0\n",
       "current_drinker                               0\n",
       "past_drinker                                  0\n",
       "current_smoker                                0\n",
       "past_smoker                                   0\n",
       "Gender                                        0\n",
       "Age                                           0\n",
       "Education_Level                               0\n",
       "Pregnant                                      0\n",
       "PIR                                           0\n",
       "Race_Non-Hispanic Black                       0\n",
       "Race_Non-Hispanic White                       0\n",
       "Race_Other Hispanic                           0\n",
       "Marital_Status_Married/Living with Partner    0\n",
       "Marital_Status_Never Married                  0\n",
       "depression_category                           0\n",
       "dtype: int64"
      ]
     },
     "execution_count": 8,
     "metadata": {},
     "output_type": "execute_result"
    }
   ],
   "source": [
    "# Check for missing values\n",
    "data.isnull().sum()"
   ]
  },
  {
   "cell_type": "markdown",
   "id": "42592641-f5db-4719-a191-cdcba8883f1d",
   "metadata": {
    "id": "42592641-f5db-4719-a191-cdcba8883f1d"
   },
   "source": [
    "### Split data into X and y"
   ]
  },
  {
   "cell_type": "code",
   "execution_count": 9,
   "id": "0b024af3-19bf-494b-9920-ee88289270f8",
   "metadata": {
    "executionInfo": {
     "elapsed": 215,
     "status": "ok",
     "timestamp": 1714494687505,
     "user": {
      "displayName": "Ann Maria John",
      "userId": "16447527053390695599"
     },
     "user_tz": 420
    },
    "id": "0b024af3-19bf-494b-9920-ee88289270f8",
    "tags": []
   },
   "outputs": [],
   "source": [
    "y = data['depression_category']\n",
    "X = data.drop(columns=['depression_category'])"
   ]
  },
  {
   "cell_type": "code",
   "execution_count": 10,
   "id": "1aee7956-c9b2-4d35-ae94-b1898dcd8965",
   "metadata": {
    "colab": {
     "base_uri": "https://localhost:8080/"
    },
    "executionInfo": {
     "elapsed": 2,
     "status": "ok",
     "timestamp": 1714494688027,
     "user": {
      "displayName": "Ann Maria John",
      "userId": "16447527053390695599"
     },
     "user_tz": 420
    },
    "id": "1aee7956-c9b2-4d35-ae94-b1898dcd8965",
    "outputId": "16d37143-a4a4-497c-a850-829df5b53757",
    "tags": []
   },
   "outputs": [
    {
     "data": {
      "text/plain": [
       "((24081, 30), (24081,))"
      ]
     },
     "execution_count": 10,
     "metadata": {},
     "output_type": "execute_result"
    }
   ],
   "source": [
    "X.shape, y.shape"
   ]
  },
  {
   "cell_type": "markdown",
   "id": "9f8945ac-c2c1-4954-9447-e41248868627",
   "metadata": {
    "id": "9f8945ac-c2c1-4954-9447-e41248868627",
    "tags": []
   },
   "source": [
    "### Handling class imbalance - SMOTENC Oversampling"
   ]
  },
  {
   "cell_type": "code",
   "execution_count": 12,
   "id": "37dc6e1e-ba30-41fb-ab80-aadc1dbd2b17",
   "metadata": {
    "executionInfo": {
     "elapsed": 183,
     "status": "ok",
     "timestamp": 1714494691580,
     "user": {
      "displayName": "Ann Maria John",
      "userId": "16447527053390695599"
     },
     "user_tz": 420
    },
    "id": "37dc6e1e-ba30-41fb-ab80-aadc1dbd2b17",
    "tags": []
   },
   "outputs": [],
   "source": [
    "from imblearn.over_sampling import SMOTE, BorderlineSMOTE, ADASYN, SMOTENC\n",
    "\n",
    "# oversampling techniques\n",
    "\n",
    "def oversample_data(X, y, method='smote', sampling_strategy='auto', random_state=42):\n",
    "    if method == 'smote':\n",
    "        oversampler = SMOTE(sampling_strategy=sampling_strategy, random_state=random_state)\n",
    "    elif method == 'borderline':\n",
    "        oversampler = BorderlineSMOTE(sampling_strategy=sampling_strategy, random_state=random_state)\n",
    "    elif method == 'adasyn':\n",
    "        oversampler = ADASYN(sampling_strategy=sampling_strategy, random_state=random_state)\n",
    "    elif method == 'smotenc':\n",
    "        categorical_features = [True] * X.shape[1]\n",
    "        categorical_features[1] = False\n",
    "        oversampler = SMOTENC(sampling_strategy=sampling_strategy, categorical_features=categorical_features, random_state=random_state)\n",
    "    else:\n",
    "        raise ValueError(\"Invalid oversampling method\")\n",
    "\n",
    "    X_resampled, y_resampled = oversampler.fit_resample(X, y)\n",
    "    return X_resampled, y_resampled"
   ]
  },
  {
   "cell_type": "code",
   "execution_count": 13,
   "id": "7856d687-d975-4417-b1e8-404cd58867f0",
   "metadata": {
    "executionInfo": {
     "elapsed": 47649,
     "status": "ok",
     "timestamp": 1714494739499,
     "user": {
      "displayName": "Ann Maria John",
      "userId": "16447527053390695599"
     },
     "user_tz": 420
    },
    "id": "7856d687-d975-4417-b1e8-404cd58867f0",
    "tags": []
   },
   "outputs": [],
   "source": [
    "sampling_strategy = 'auto'\n",
    "X_os,y_os = oversample_data(X, y, method='smote', sampling_strategy=sampling_strategy)"
   ]
  },
  {
   "cell_type": "code",
   "execution_count": 14,
   "id": "3a6920f8-9844-4f6b-9ad0-0412ba440ff6",
   "metadata": {
    "colab": {
     "base_uri": "https://localhost:8080/"
    },
    "executionInfo": {
     "elapsed": 9,
     "status": "ok",
     "timestamp": 1714494739500,
     "user": {
      "displayName": "Ann Maria John",
      "userId": "16447527053390695599"
     },
     "user_tz": 420
    },
    "id": "3a6920f8-9844-4f6b-9ad0-0412ba440ff6",
    "outputId": "c0296d32-64d7-408a-b594-7ab23a9d0b92",
    "tags": []
   },
   "outputs": [
    {
     "data": {
      "text/plain": [
       "((55884, 30), (55884,))"
      ]
     },
     "execution_count": 14,
     "metadata": {},
     "output_type": "execute_result"
    }
   ],
   "source": [
    "X_os.shape, y_os.shape"
   ]
  },
  {
   "cell_type": "markdown",
   "id": "88b654fc-dfa0-4277-82f4-80bd3a109960",
   "metadata": {
    "id": "88b654fc-dfa0-4277-82f4-80bd3a109960"
   },
   "source": [
    "### Train test split"
   ]
  },
  {
   "cell_type": "code",
   "execution_count": 15,
   "id": "7d507732-a9f9-4676-8928-fcb8b2b62fa7",
   "metadata": {
    "executionInfo": {
     "elapsed": 21,
     "status": "ok",
     "timestamp": 1714494740156,
     "user": {
      "displayName": "Ann Maria John",
      "userId": "16447527053390695599"
     },
     "user_tz": 420
    },
    "id": "7d507732-a9f9-4676-8928-fcb8b2b62fa7",
    "tags": []
   },
   "outputs": [],
   "source": [
    "from sklearn.model_selection import train_test_split\n",
    "\n",
    "X_train_full, X_test, y_train_full, y_test = train_test_split(X_os, y_os, test_size=0.2, random_state=2)"
   ]
  },
  {
   "cell_type": "code",
   "execution_count": 16,
   "id": "5802effb-fb69-4a7b-aa34-16efe1301eea",
   "metadata": {
    "executionInfo": {
     "elapsed": 17,
     "status": "ok",
     "timestamp": 1714494740156,
     "user": {
      "displayName": "Ann Maria John",
      "userId": "16447527053390695599"
     },
     "user_tz": 420
    },
    "id": "5802effb-fb69-4a7b-aa34-16efe1301eea",
    "tags": []
   },
   "outputs": [],
   "source": [
    "X_train, X_valid, y_train, y_valid = train_test_split(X_train_full, y_train_full, test_size=0.2, random_state=2)"
   ]
  },
  {
   "cell_type": "code",
   "execution_count": 17,
   "id": "8c8bcef9-271f-481f-b186-77bf0c849765",
   "metadata": {
    "colab": {
     "base_uri": "https://localhost:8080/"
    },
    "executionInfo": {
     "elapsed": 220,
     "status": "ok",
     "timestamp": 1714494740370,
     "user": {
      "displayName": "Ann Maria John",
      "userId": "16447527053390695599"
     },
     "user_tz": 420
    },
    "id": "8c8bcef9-271f-481f-b186-77bf0c849765",
    "outputId": "e78256b7-15d3-4bdf-dfe5-660dcda915cb",
    "tags": []
   },
   "outputs": [
    {
     "name": "stdout",
     "output_type": "stream",
     "text": [
      "train data(X_train,y_train) shape:  (35765, 30) (35765,)\n",
      "validation data(X_valid,y_valid) shape:  (8942, 30) (8942,)\n",
      "test data(X_test,y_test) shape:  (11177, 30) (11177,)\n"
     ]
    }
   ],
   "source": [
    "print('train data(X_train,y_train) shape: ',X_train.shape, y_train.shape)\n",
    "print('validation data(X_valid,y_valid) shape: ',X_valid.shape, y_valid.shape)\n",
    "print('test data(X_test,y_test) shape: ',X_test.shape, y_test.shape)"
   ]
  },
  {
   "cell_type": "markdown",
   "id": "598cecc1-f46e-4bc1-bd1c-d539c891494d",
   "metadata": {
    "id": "598cecc1-f46e-4bc1-bd1c-d539c891494d"
   },
   "source": [
    "### RF Baseline"
   ]
  },
  {
   "cell_type": "code",
   "execution_count": 18,
   "id": "2660e197-9303-4a58-abb1-ae0a7a27cc3f",
   "metadata": {
    "executionInfo": {
     "elapsed": 168,
     "status": "ok",
     "timestamp": 1714494755009,
     "user": {
      "displayName": "Ann Maria John",
      "userId": "16447527053390695599"
     },
     "user_tz": 420
    },
    "id": "2660e197-9303-4a58-abb1-ae0a7a27cc3f",
    "tags": []
   },
   "outputs": [],
   "source": [
    "from sklearn.ensemble import RandomForestClassifier"
   ]
  },
  {
   "cell_type": "code",
   "execution_count": 19,
   "id": "89f63a9a-c561-47cf-92a6-9651391e6753",
   "metadata": {
    "colab": {
     "base_uri": "https://localhost:8080/",
     "height": 74
    },
    "executionInfo": {
     "elapsed": 4151,
     "status": "ok",
     "timestamp": 1714494759465,
     "user": {
      "displayName": "Ann Maria John",
      "userId": "16447527053390695599"
     },
     "user_tz": 420
    },
    "id": "89f63a9a-c561-47cf-92a6-9651391e6753",
    "outputId": "ab47074e-f4d9-4c03-d2f1-5c5349104d7d",
    "tags": []
   },
   "outputs": [
    {
     "data": {
      "text/html": [
       "<style>#sk-container-id-1 {color: black;}#sk-container-id-1 pre{padding: 0;}#sk-container-id-1 div.sk-toggleable {background-color: white;}#sk-container-id-1 label.sk-toggleable__label {cursor: pointer;display: block;width: 100%;margin-bottom: 0;padding: 0.3em;box-sizing: border-box;text-align: center;}#sk-container-id-1 label.sk-toggleable__label-arrow:before {content: \"▸\";float: left;margin-right: 0.25em;color: #696969;}#sk-container-id-1 label.sk-toggleable__label-arrow:hover:before {color: black;}#sk-container-id-1 div.sk-estimator:hover label.sk-toggleable__label-arrow:before {color: black;}#sk-container-id-1 div.sk-toggleable__content {max-height: 0;max-width: 0;overflow: hidden;text-align: left;background-color: #f0f8ff;}#sk-container-id-1 div.sk-toggleable__content pre {margin: 0.2em;color: black;border-radius: 0.25em;background-color: #f0f8ff;}#sk-container-id-1 input.sk-toggleable__control:checked~div.sk-toggleable__content {max-height: 200px;max-width: 100%;overflow: auto;}#sk-container-id-1 input.sk-toggleable__control:checked~label.sk-toggleable__label-arrow:before {content: \"▾\";}#sk-container-id-1 div.sk-estimator input.sk-toggleable__control:checked~label.sk-toggleable__label {background-color: #d4ebff;}#sk-container-id-1 div.sk-label input.sk-toggleable__control:checked~label.sk-toggleable__label {background-color: #d4ebff;}#sk-container-id-1 input.sk-hidden--visually {border: 0;clip: rect(1px 1px 1px 1px);clip: rect(1px, 1px, 1px, 1px);height: 1px;margin: -1px;overflow: hidden;padding: 0;position: absolute;width: 1px;}#sk-container-id-1 div.sk-estimator {font-family: monospace;background-color: #f0f8ff;border: 1px dotted black;border-radius: 0.25em;box-sizing: border-box;margin-bottom: 0.5em;}#sk-container-id-1 div.sk-estimator:hover {background-color: #d4ebff;}#sk-container-id-1 div.sk-parallel-item::after {content: \"\";width: 100%;border-bottom: 1px solid gray;flex-grow: 1;}#sk-container-id-1 div.sk-label:hover label.sk-toggleable__label {background-color: #d4ebff;}#sk-container-id-1 div.sk-serial::before {content: \"\";position: absolute;border-left: 1px solid gray;box-sizing: border-box;top: 0;bottom: 0;left: 50%;z-index: 0;}#sk-container-id-1 div.sk-serial {display: flex;flex-direction: column;align-items: center;background-color: white;padding-right: 0.2em;padding-left: 0.2em;position: relative;}#sk-container-id-1 div.sk-item {position: relative;z-index: 1;}#sk-container-id-1 div.sk-parallel {display: flex;align-items: stretch;justify-content: center;background-color: white;position: relative;}#sk-container-id-1 div.sk-item::before, #sk-container-id-1 div.sk-parallel-item::before {content: \"\";position: absolute;border-left: 1px solid gray;box-sizing: border-box;top: 0;bottom: 0;left: 50%;z-index: -1;}#sk-container-id-1 div.sk-parallel-item {display: flex;flex-direction: column;z-index: 1;position: relative;background-color: white;}#sk-container-id-1 div.sk-parallel-item:first-child::after {align-self: flex-end;width: 50%;}#sk-container-id-1 div.sk-parallel-item:last-child::after {align-self: flex-start;width: 50%;}#sk-container-id-1 div.sk-parallel-item:only-child::after {width: 0;}#sk-container-id-1 div.sk-dashed-wrapped {border: 1px dashed gray;margin: 0 0.4em 0.5em 0.4em;box-sizing: border-box;padding-bottom: 0.4em;background-color: white;}#sk-container-id-1 div.sk-label label {font-family: monospace;font-weight: bold;display: inline-block;line-height: 1.2em;}#sk-container-id-1 div.sk-label-container {text-align: center;}#sk-container-id-1 div.sk-container {/* jupyter's `normalize.less` sets `[hidden] { display: none; }` but bootstrap.min.css set `[hidden] { display: none !important; }` so we also need the `!important` here to be able to override the default hidden behavior on the sphinx rendered scikit-learn.org. See: https://github.com/scikit-learn/scikit-learn/issues/21755 */display: inline-block !important;position: relative;}#sk-container-id-1 div.sk-text-repr-fallback {display: none;}</style><div id=\"sk-container-id-1\" class=\"sk-top-container\"><div class=\"sk-text-repr-fallback\"><pre>RandomForestClassifier()</pre><b>In a Jupyter environment, please rerun this cell to show the HTML representation or trust the notebook. <br />On GitHub, the HTML representation is unable to render, please try loading this page with nbviewer.org.</b></div><div class=\"sk-container\" hidden><div class=\"sk-item\"><div class=\"sk-estimator sk-toggleable\"><input class=\"sk-toggleable__control sk-hidden--visually\" id=\"sk-estimator-id-1\" type=\"checkbox\" checked><label for=\"sk-estimator-id-1\" class=\"sk-toggleable__label sk-toggleable__label-arrow\">RandomForestClassifier</label><div class=\"sk-toggleable__content\"><pre>RandomForestClassifier()</pre></div></div></div></div></div>"
      ],
      "text/plain": [
       "RandomForestClassifier()"
      ]
     },
     "execution_count": 19,
     "metadata": {},
     "output_type": "execute_result"
    }
   ],
   "source": [
    "# Train classifier\n",
    "\n",
    "model = RandomForestClassifier()\n",
    "model.fit(X_train, y_train)"
   ]
  },
  {
   "cell_type": "code",
   "execution_count": 20,
   "id": "24bab6e5-3283-475b-944a-46baf05bf5c8",
   "metadata": {
    "executionInfo": {
     "elapsed": 689,
     "status": "ok",
     "timestamp": 1714494760153,
     "user": {
      "displayName": "Ann Maria John",
      "userId": "16447527053390695599"
     },
     "user_tz": 420
    },
    "id": "24bab6e5-3283-475b-944a-46baf05bf5c8",
    "tags": []
   },
   "outputs": [],
   "source": [
    "# Predict the model\n",
    "\n",
    "y_pred_RF_baseline = model.predict(X_valid)"
   ]
  },
  {
   "cell_type": "code",
   "execution_count": 21,
   "id": "a621e573-d1b2-4867-905d-ed957c06f151",
   "metadata": {
    "executionInfo": {
     "elapsed": 3,
     "status": "ok",
     "timestamp": 1714494760153,
     "user": {
      "displayName": "Ann Maria John",
      "userId": "16447527053390695599"
     },
     "user_tz": 420
    },
    "id": "a621e573-d1b2-4867-905d-ed957c06f151",
    "tags": []
   },
   "outputs": [],
   "source": [
    "import matplotlib.pyplot as plt\n",
    "from sklearn import metrics\n",
    "\n",
    "def metrics_calculation(y_actual, y_predicted,plot_roc_curve=True):\n",
    "    #Classification report\n",
    "    class_report=metrics.classification_report(y_actual,y_predicted)\n",
    "    print(\"Classification report:\\n\",class_report)\n",
    "\n",
    "    #Confusion Matrix\n",
    "    conf_mat = metrics.confusion_matrix(y_actual,y_predicted,labels=None)\n",
    "    print(\"Confusion Matrix:\\n\",conf_mat)\n",
    "\n",
    "    #Confusion Matrix Display\n",
    "    conf_display=metrics.ConfusionMatrixDisplay(conf_mat)\n",
    "    conf_display.plot()\n",
    "    plt.show()\n",
    "\n",
    "    #Accuracy\n",
    "    accuracy =metrics.accuracy_score(y_actual, y_predicted)\n",
    "    print(\"Accuracy:\",accuracy)\n",
    "\n",
    "    #precision\n",
    "    precision=metrics.precision_score(y_actual, y_predicted, average='weighted')\n",
    "    print(\"Precision:\",precision)\n",
    "\n",
    "    #Recall\n",
    "    recall=metrics.recall_score(y_actual, y_predicted, average='weighted')\n",
    "    print(\"Recall:\",recall)\n",
    "\n",
    "    #sensitivity\n",
    "    sensitivity = conf_mat[1, 1] / (conf_mat[1,1] + conf_mat[1,0])\n",
    "    print(\"Sensitivity:\",sensitivity)\n",
    "\n",
    "    #specificity\n",
    "    specificity = conf_mat[0, 0] / (conf_mat[0, 0] + conf_mat[0, 1])\n",
    "    print(\"Specificity:\",specificity)\n",
    "\n",
    "    #f1-score\n",
    "    f1_score = metrics.f1_score(y_actual,y_predicted, average='weighted')\n",
    "    print(\"F1-Score:\",f1_score)\n",
    "\n",
    "    #Cohen's Kappa score\n",
    "    Kappa_score= metrics.cohen_kappa_score(y_actual,y_predicted)\n",
    "    print(\"Cohen Kappa Score:\",Kappa_score)\n",
    "\n",
    "    #G-measure\n",
    "    g_measure=2*(precision*recall)/(precision+recall)\n",
    "    print(\"G_measure:\",g_measure)\n",
    "\n",
    "    #Informedness/Youdens statistic\n",
    "    informedness=sensitivity+specificity-1\n",
    "    print(\"Informedness/Youdens statistic:\",informedness)\n",
    "\n",
    "    #Positive predictive Value\n",
    "    ppv= conf_mat[1,1] / (conf_mat[1,1] + conf_mat[0,1])\n",
    "    print(\"PPV:\",ppv)\n",
    "\n",
    "     #Negative predictive Value\n",
    "    npv= conf_mat[0, 0] / (conf_mat[0, 0] + conf_mat[1,0])\n",
    "    print(\"NPV:\",npv)\n",
    "\n",
    "    #Markedness\n",
    "    marked=ppv+npv-1\n",
    "    print(\"Markedness:\",marked)\n",
    "\n",
    "    # Matthews Correlation Coefficient\n",
    "    mcc=((conf_mat[0, 0] * conf_mat[1, 1]) - (conf_mat[0, 1] * conf_mat[1, 0]))/np.sqrt((conf_mat[0, 0] + conf_mat[0, 1])\n",
    "        * (conf_mat[0, 0] + conf_mat[1, 0]) * (conf_mat[1, 1] + conf_mat[1, 0]) * (conf_mat[1, 1] + conf_mat[0, 1]))\n",
    "    print(\"Matthews Correlation Coefficient\",mcc)"
   ]
  },
  {
   "cell_type": "code",
   "execution_count": 22,
   "id": "e7e7515f-585a-47c7-8f62-817e86112228",
   "metadata": {
    "colab": {
     "base_uri": "https://localhost:8080/",
     "height": 925
    },
    "executionInfo": {
     "elapsed": 1030,
     "status": "ok",
     "timestamp": 1714494761181,
     "user": {
      "displayName": "Ann Maria John",
      "userId": "16447527053390695599"
     },
     "user_tz": 420
    },
    "id": "e7e7515f-585a-47c7-8f62-817e86112228",
    "outputId": "fe10bc17-9867-4afb-e365-04cee45e82d5",
    "tags": []
   },
   "outputs": [
    {
     "name": "stdout",
     "output_type": "stream",
     "text": [
      "Classification report:\n",
      "               precision    recall  f1-score   support\n",
      "\n",
      "           0       0.99      1.00      0.99      2927\n",
      "           1       0.99      0.99      0.99      3006\n",
      "           2       1.00      0.99      1.00      3009\n",
      "\n",
      "    accuracy                           0.99      8942\n",
      "   macro avg       0.99      0.99      0.99      8942\n",
      "weighted avg       0.99      0.99      0.99      8942\n",
      "\n",
      "Confusion Matrix:\n",
      " [[2914   13    0]\n",
      " [  19 2982    5]\n",
      " [   0   17 2992]]\n"
     ]
    },
    {
     "data": {
      "image/png": "[encoded data removed]",
      "text/plain": [
       "<Figure size 640x480 with 2 Axes>"
      ]
     },
     "metadata": {},
     "output_type": "display_data"
    },
    {
     "name": "stdout",
     "output_type": "stream",
     "text": [
      "Accuracy: 0.9939610825318721\n",
      "Precision: 0.9939698735170369\n",
      "Recall: 0.9939610825318721\n",
      "Sensitivity: 0.9936687770743086\n",
      "Specificity: 0.9955585924154424\n",
      "F1-Score: 0.9939634671743295\n",
      "Cohen Kappa Score: 0.9909409755217905\n",
      "G_measure: 0.9939654780050169\n",
      "Informedness/Youdens statistic: 0.9892273694897509\n",
      "PPV: 0.9956594323873121\n",
      "NPV: 0.9935219911353563\n",
      "Markedness: 0.9891814235226684\n",
      "Matthews Correlation Coefficient 0.9892043962394509\n"
     ]
    }
   ],
   "source": [
    "metrics_calculation(y_valid, y_pred_RF_baseline, True)"
   ]
  },
  {
   "cell_type": "code",
   "execution_count": 23,
   "id": "JdlZ_H9euHmP",
   "metadata": {
    "colab": {
     "base_uri": "https://localhost:8080/",
     "height": 735
    },
    "executionInfo": {
     "elapsed": 1351,
     "status": "ok",
     "timestamp": 1714494762529,
     "user": {
      "displayName": "Ann Maria John",
      "userId": "16447527053390695599"
     },
     "user_tz": 420
    },
    "id": "JdlZ_H9euHmP",
    "outputId": "78383b6a-369f-473e-9cf4-3d1db4eb3ec2",
    "tags": []
   },
   "outputs": [
    {
     "name": "stdout",
     "output_type": "stream",
     "text": [
      "ROC-AUC Score: 0.999921824375266\n"
     ]
    },
    {
     "data": {
      "image/png": "[encoded data removed]",
      "text/plain": [
       "<Figure size 800x800 with 1 Axes>"
      ]
     },
     "metadata": {},
     "output_type": "display_data"
    }
   ],
   "source": [
    "from sklearn.metrics import roc_curve, auc, roc_auc_score\n",
    "from sklearn.preprocessing import label_binarize\n",
    "\n",
    "# Predict probabilities for the test data\n",
    "y_pred_proba_RF_baseline = model.predict_proba(X_valid)\n",
    "\n",
    "# Binarizing the output labels for multi-class\n",
    "classes = np.unique(y_train)\n",
    "y_valid_binarized = label_binarize(y_valid, classes=classes)\n",
    "\n",
    "# Calculate the ROC-AUC score\n",
    "roc_auc = roc_auc_score(y_valid_binarized, y_pred_proba_RF_baseline, multi_class='ovo')\n",
    "print(\"ROC-AUC Score:\", roc_auc)\n",
    "\n",
    "# Plot the ROC curve for each class\n",
    "plt.figure(figsize=(8, 8))\n",
    "for i, class_name in enumerate(classes):\n",
    "    fpr, tpr, _ = roc_curve(y_valid_binarized[:, i], y_pred_proba_RF_baseline[:, i])\n",
    "    plt.plot(fpr, tpr, lw=2, label=f'Class {class_name} (area = {auc(fpr, tpr):.2f})')\n",
    "\n",
    "plt.plot([0, 1], [0, 1], color='navy', lw=2, linestyle='--', label='Random Guess')\n",
    "plt.xlabel('False Positive Rate')\n",
    "plt.ylabel('True Positive Rate')\n",
    "plt.title('Receiver Operating Characteristic (ROC) Curve')\n",
    "plt.legend(loc='lower right')\n",
    "plt.show()"
   ]
  },
  {
   "cell_type": "markdown",
   "id": "9cdb0d14-322d-45cf-b7f1-b0f19c0f2798",
   "metadata": {
    "id": "9cdb0d14-322d-45cf-b7f1-b0f19c0f2798"
   },
   "source": [
    "### Hyperparameter tuning"
   ]
  },
  {
   "cell_type": "code",
   "execution_count": 24,
   "id": "e2237c13-51bf-40e4-ba3f-8287c2f03526",
   "metadata": {
    "executionInfo": {
     "elapsed": 4,
     "status": "ok",
     "timestamp": 1714494762529,
     "user": {
      "displayName": "Ann Maria John",
      "userId": "16447527053390695599"
     },
     "user_tz": 420
    },
    "id": "e2237c13-51bf-40e4-ba3f-8287c2f03526",
    "tags": []
   },
   "outputs": [],
   "source": [
    "# defining a grid search like function for decision tree to get hyper parameters\n",
    "def rf_grid_search(max_depth_array, min_s_leaf_array, criterions_array, params, X_train, X_test, y_train, y_test):\n",
    "  for k in range(0,len(criterions_array)):\n",
    "    for i in range(0, len(max_depth_array)):\n",
    "      for j in range(0,len(min_s_leaf_array)):\n",
    "        max_depth_val = max_depth_array[i]\n",
    "        min_s_leaf_val = min_s_leaf_array[j]\n",
    "        criterion_val = criterions_array[k]\n",
    "        d_tree_clf = RandomForestClassifier(max_depth=max_depth_val, min_samples_leaf=min_s_leaf_val, criterion=criterion_val, random_state=2023)#####\n",
    "        d_tree_clf = d_tree_clf.fit(X_train,y_train)\n",
    "        y_pred = d_tree_clf.predict(X_test)\n",
    "        accuracy = metrics.accuracy_score(y_test, y_pred)\n",
    "        F1_score = metrics.f1_score(y_test, y_pred, average='macro')\n",
    "        precision = metrics.precision_score(y_test, y_pred, average='macro')\n",
    "        recall = metrics.recall_score(y_test, y_pred, average='macro')\n",
    "        parameters_dict = {'criterion':criterion_val, 'max_depth':max_depth_val, 'min_samples_leaf': min_s_leaf_val, 'accuracy': accuracy, 'F1_score':F1_score, 'precision':precision, 'recall':recall}\n",
    "        params.append(parameters_dict)\n",
    "        print(f'criterion:{criterion_val}, max_depth:{max_depth_val}, min_samples_leaf:{min_s_leaf_val}, accuracy:{accuracy}, F1_score:{F1_score}')"
   ]
  },
  {
   "cell_type": "code",
   "execution_count": 25,
   "id": "21137cf5-19e8-4b42-b055-ecf1acc81056",
   "metadata": {
    "colab": {
     "base_uri": "https://localhost:8080/"
    },
    "executionInfo": {
     "elapsed": 76166,
     "status": "ok",
     "timestamp": 1714494838693,
     "user": {
      "displayName": "Ann Maria John",
      "userId": "16447527053390695599"
     },
     "user_tz": 420
    },
    "id": "21137cf5-19e8-4b42-b055-ecf1acc81056",
    "outputId": "31b6f6d2-47e0-4389-8279-783ffbfab061",
    "tags": []
   },
   "outputs": [
    {
     "name": "stdout",
     "output_type": "stream",
     "text": [
      "criterion:gini, max_depth:2, min_samples_leaf:5, accuracy:0.910087228807873, F1_score:0.9097736266322034\n",
      "criterion:gini, max_depth:2, min_samples_leaf:10, accuracy:0.910087228807873, F1_score:0.9097736266322034\n",
      "criterion:gini, max_depth:2, min_samples_leaf:15, accuracy:0.910087228807873, F1_score:0.9097736266322034\n",
      "criterion:gini, max_depth:4, min_samples_leaf:5, accuracy:0.9414001341981659, F1_score:0.9420153710191776\n",
      "criterion:gini, max_depth:4, min_samples_leaf:10, accuracy:0.9414001341981659, F1_score:0.9420153710191776\n",
      "criterion:gini, max_depth:4, min_samples_leaf:15, accuracy:0.9414001341981659, F1_score:0.9420153710191776\n",
      "criterion:gini, max_depth:6, min_samples_leaf:5, accuracy:0.9586222321628272, F1_score:0.9590686527825983\n",
      "criterion:gini, max_depth:6, min_samples_leaf:10, accuracy:0.9587340639677925, F1_score:0.9591580022929082\n",
      "criterion:gini, max_depth:6, min_samples_leaf:15, accuracy:0.9568329232833818, F1_score:0.9573047382684315\n",
      "criterion:gini, max_depth:8, min_samples_leaf:5, accuracy:0.973384030418251, F1_score:0.973618636992234\n",
      "criterion:gini, max_depth:8, min_samples_leaf:10, accuracy:0.971371057928875, F1_score:0.9716138800939854\n",
      "criterion:gini, max_depth:8, min_samples_leaf:15, accuracy:0.9708118989040483, F1_score:0.971060810154288\n",
      "criterion:gini, max_depth:10, min_samples_leaf:5, accuracy:0.9816595839856855, F1_score:0.9817637146215547\n",
      "criterion:gini, max_depth:10, min_samples_leaf:10, accuracy:0.9793111160814135, F1_score:0.9794440932202105\n",
      "criterion:gini, max_depth:10, min_samples_leaf:15, accuracy:0.9780809662267949, F1_score:0.9782270328923274\n",
      "criterion:entropy, max_depth:2, min_samples_leaf:5, accuracy:0.8948781033325878, F1_score:0.8941267427441574\n",
      "criterion:entropy, max_depth:2, min_samples_leaf:10, accuracy:0.8948781033325878, F1_score:0.8941267427441574\n",
      "criterion:entropy, max_depth:2, min_samples_leaf:15, accuracy:0.8948781033325878, F1_score:0.8941267427441574\n",
      "criterion:entropy, max_depth:4, min_samples_leaf:5, accuracy:0.9364795347796914, F1_score:0.9370741537817339\n",
      "criterion:entropy, max_depth:4, min_samples_leaf:10, accuracy:0.9364795347796914, F1_score:0.9370741537817339\n",
      "criterion:entropy, max_depth:4, min_samples_leaf:15, accuracy:0.936367702974726, F1_score:0.9369611204394722\n",
      "criterion:entropy, max_depth:6, min_samples_leaf:5, accuracy:0.9551554462089018, F1_score:0.9556447503555313\n",
      "criterion:entropy, max_depth:6, min_samples_leaf:10, accuracy:0.9557146052337284, F1_score:0.9561904267773023\n",
      "criterion:entropy, max_depth:6, min_samples_leaf:15, accuracy:0.9552672780138671, F1_score:0.9557735346976131\n",
      "criterion:entropy, max_depth:8, min_samples_leaf:5, accuracy:0.9731603668083203, F1_score:0.973392671256781\n",
      "criterion:entropy, max_depth:8, min_samples_leaf:10, accuracy:0.9723775441735629, F1_score:0.9726143090132005\n",
      "criterion:entropy, max_depth:8, min_samples_leaf:15, accuracy:0.969022590024603, F1_score:0.969280853548264\n",
      "criterion:entropy, max_depth:10, min_samples_leaf:5, accuracy:0.9811004249608589, F1_score:0.9812178602554398\n",
      "criterion:entropy, max_depth:10, min_samples_leaf:10, accuracy:0.9807649295459628, F1_score:0.9808751794366031\n",
      "criterion:entropy, max_depth:10, min_samples_leaf:15, accuracy:0.9791992842764482, F1_score:0.9793124261225857\n"
     ]
    }
   ],
   "source": [
    "#hyperparameters\n",
    "max_depth_array = [2,4,6,8,10]\n",
    "min_s_leaf_array = [5,10,15]\n",
    "criterions_array = ['gini','entropy']\n",
    "params = list()\n",
    "\n",
    "rf_grid_search(max_depth_array, min_s_leaf_array, criterions_array, params, X_train, X_valid, y_train, y_valid)"
   ]
  },
  {
   "cell_type": "code",
   "execution_count": 26,
   "id": "3c721b12-32a8-4d90-9247-597aa7fd880e",
   "metadata": {
    "colab": {
     "base_uri": "https://localhost:8080/"
    },
    "executionInfo": {
     "elapsed": 6,
     "status": "ok",
     "timestamp": 1714494838693,
     "user": {
      "displayName": "Ann Maria John",
      "userId": "16447527053390695599"
     },
     "user_tz": 420
    },
    "id": "3c721b12-32a8-4d90-9247-597aa7fd880e",
    "outputId": "492e70f7-7b49-4a27-fe8b-b36774da2316",
    "tags": []
   },
   "outputs": [
    {
     "name": "stdout",
     "output_type": "stream",
     "text": [
      "+----+-------------+-------------+--------------------+------------+------------+-------------+----------+\n",
      "|    | criterion   |   max_depth |   min_samples_leaf |   accuracy |   F1_score |   precision |   recall |\n",
      "|----+-------------+-------------+--------------------+------------+------------+-------------+----------|\n",
      "|  0 | gini        |          10 |                  5 |   0.98166  |   0.981764 |    0.982295 | 0.981594 |\n",
      "|  1 | entropy     |          10 |                  5 |   0.9811   |   0.981218 |    0.981649 | 0.981092 |\n",
      "|  2 | entropy     |          10 |                 10 |   0.980765 |   0.980875 |    0.981226 | 0.980765 |\n",
      "|  3 | gini        |          10 |                 10 |   0.979311 |   0.979444 |    0.980058 | 0.979261 |\n",
      "|  4 | entropy     |          10 |                 15 |   0.979199 |   0.979312 |    0.97972  | 0.979186 |\n",
      "|  5 | gini        |          10 |                 15 |   0.978081 |   0.978227 |    0.978841 | 0.978054 |\n",
      "|  6 | gini        |           8 |                  5 |   0.973384 |   0.973619 |    0.974723 | 0.97333  |\n",
      "|  7 | entropy     |           8 |                  5 |   0.97316  |   0.973393 |    0.97432  | 0.973167 |\n",
      "|  8 | entropy     |           8 |                 10 |   0.972378 |   0.972614 |    0.973565 | 0.972388 |\n",
      "|  9 | gini        |           8 |                 10 |   0.971371 |   0.971614 |    0.972718 | 0.971348 |\n",
      "| 10 | gini        |           8 |                 15 |   0.970812 |   0.971061 |    0.972172 | 0.970781 |\n",
      "| 11 | entropy     |           8 |                 15 |   0.969023 |   0.969281 |    0.970335 | 0.969045 |\n",
      "| 12 | gini        |           6 |                 10 |   0.958734 |   0.959158 |    0.961092 | 0.958691 |\n",
      "| 13 | gini        |           6 |                  5 |   0.958622 |   0.959069 |    0.96113  | 0.958577 |\n",
      "| 14 | gini        |           6 |                 15 |   0.956833 |   0.957305 |    0.959433 | 0.956807 |\n",
      "| 15 | entropy     |           6 |                 10 |   0.955715 |   0.95619  |    0.958204 | 0.955757 |\n",
      "| 16 | entropy     |           6 |                 15 |   0.955267 |   0.955774 |    0.957947 | 0.955302 |\n",
      "| 17 | entropy     |           6 |                  5 |   0.955155 |   0.955645 |    0.957655 | 0.955187 |\n",
      "| 18 | gini        |           4 |                  5 |   0.9414   |   0.942015 |    0.94413  | 0.941406 |\n",
      "| 19 | gini        |           4 |                 10 |   0.9414   |   0.942015 |    0.94413  | 0.941406 |\n",
      "| 20 | gini        |           4 |                 15 |   0.9414   |   0.942015 |    0.94413  | 0.941406 |\n",
      "| 21 | entropy     |           4 |                  5 |   0.93648  |   0.937074 |    0.938858 | 0.936596 |\n",
      "| 22 | entropy     |           4 |                 10 |   0.93648  |   0.937074 |    0.938858 | 0.936596 |\n",
      "| 23 | entropy     |           4 |                 15 |   0.936368 |   0.936961 |    0.938735 | 0.936485 |\n",
      "| 24 | gini        |           2 |                  5 |   0.910087 |   0.909774 |    0.909678 | 0.910492 |\n",
      "| 25 | gini        |           2 |                 10 |   0.910087 |   0.909774 |    0.909678 | 0.910492 |\n",
      "| 26 | gini        |           2 |                 15 |   0.910087 |   0.909774 |    0.909678 | 0.910492 |\n",
      "| 27 | entropy     |           2 |                  5 |   0.894878 |   0.894127 |    0.894438 | 0.895369 |\n",
      "| 28 | entropy     |           2 |                 10 |   0.894878 |   0.894127 |    0.894438 | 0.895369 |\n",
      "| 29 | entropy     |           2 |                 15 |   0.894878 |   0.894127 |    0.894438 | 0.895369 |\n",
      "+----+-------------+-------------+--------------------+------------+------------+-------------+----------+\n",
      "************************************************************************************************************************\n",
      "\n",
      "optimal hyper-parameters: {'criterion': 'gini', 'max_depth': 10, 'min_samples_leaf': 5, 'accuracy': 0.9816595839856855, 'F1_score': 0.9817637146215547, 'precision': 0.9822954313211226, 'recall': 0.9815937637573393}\n",
      "\n",
      "************************************************************************************************************************\n"
     ]
    }
   ],
   "source": [
    "from operator import itemgetter\n",
    "from tabulate import tabulate\n",
    "\n",
    "# lets sort the metrics in descending order\n",
    "param_sorted = sorted(params, key=itemgetter('F1_score'), reverse=True)\n",
    "df = pd.DataFrame.from_dict(param_sorted)\n",
    "print(tabulate(df, headers = 'keys', tablefmt = 'psql'))\n",
    "\n",
    "# optimal set of hyperparameters will be the top value in the sorted parameter list\n",
    "opt_hparams = param_sorted[0]\n",
    "print('**'*60)\n",
    "print(f'\\noptimal hyper-parameters: {opt_hparams}\\n')\n",
    "print('**'*60)"
   ]
  },
  {
   "cell_type": "markdown",
   "id": "f87117c0-e808-4625-b2e0-06a463215911",
   "metadata": {
    "id": "f87117c0-e808-4625-b2e0-06a463215911"
   },
   "source": [
    "### Cross validation"
   ]
  },
  {
   "cell_type": "code",
   "execution_count": 27,
   "id": "hSfa-xwKxoTV",
   "metadata": {
    "executionInfo": {
     "elapsed": 4,
     "status": "ok",
     "timestamp": 1714494838693,
     "user": {
      "displayName": "Ann Maria John",
      "userId": "16447527053390695599"
     },
     "user_tz": 420
    },
    "id": "hSfa-xwKxoTV",
    "tags": []
   },
   "outputs": [],
   "source": [
    "from sklearn.model_selection import cross_validate, StratifiedKFold\n",
    "from sklearn.tree import DecisionTreeClassifier\n",
    "from sklearn.metrics import make_scorer, precision_score, recall_score, f1_score\n",
    "\n",
    "def cross_validation_func(model, X_train, y_train, c_v=5):\n",
    "    # Use StratifiedKFold for balanced splits\n",
    "    stratified_k_fold = StratifiedKFold(n_splits=c_v, shuffle=True, random_state=2023)\n",
    "\n",
    "    # Define custom scorers with averaging method for multi-class settings\n",
    "    scoring_array = {\n",
    "        'accuracy': 'accuracy',\n",
    "        'precision': make_scorer(precision_score, average='macro'),  # Change 'macro' to 'micro' or 'weighted' as needed\n",
    "        'recall': make_scorer(recall_score, average='macro'),\n",
    "        'f1': make_scorer(f1_score, average='macro')\n",
    "    }\n",
    "\n",
    "    results_scores = cross_validate(estimator=model,\n",
    "                                    X=X_train,\n",
    "                                    y=y_train,\n",
    "                                    cv=stratified_k_fold,\n",
    "                                    scoring=scoring_array,\n",
    "                                    return_train_score=True)\n",
    "\n",
    "    return {\n",
    "        \"Mean Train Accuracy\": results_scores['train_accuracy'].mean(),\n",
    "        \"Mean Train Precision\": results_scores['train_precision'].mean(),\n",
    "        \"Mean Train Recall\": results_scores['train_recall'].mean(),\n",
    "        \"Mean Train F1 Score\": results_scores['train_f1'].mean(),\n",
    "        \"Mean Valid Accuracy\": results_scores['test_accuracy'].mean(),\n",
    "        \"Mean Valid Precision\": results_scores['test_precision'].mean(),\n",
    "        \"Mean Valid Recall\": results_scores['test_recall'].mean(),\n",
    "        \"Mean Valid F1 Score\": results_scores['test_f1'].mean()\n",
    "    }"
   ]
  },
  {
   "cell_type": "code",
   "execution_count": 28,
   "id": "4a84d649-1363-4331-836a-476a1635d326",
   "metadata": {
    "colab": {
     "base_uri": "https://localhost:8080/"
    },
    "executionInfo": {
     "elapsed": 22015,
     "status": "ok",
     "timestamp": 1714494860705,
     "user": {
      "displayName": "Ann Maria John",
      "userId": "16447527053390695599"
     },
     "user_tz": 420
    },
    "id": "4a84d649-1363-4331-836a-476a1635d326",
    "outputId": "db12349b-45b2-4217-b23f-3c28047fe834",
    "tags": []
   },
   "outputs": [
    {
     "data": {
      "text/plain": [
       "{'Mean Train Accuracy': 0.9854720698442355,\n",
       " 'Mean Train Precision': 0.9858488909951187,\n",
       " 'Mean Train Recall': 0.9854539923492064,\n",
       " 'Mean Train F1 Score': 0.9855163445868428,\n",
       " 'Mean Valid Accuracy': 0.9788624055042512,\n",
       " 'Mean Valid Precision': 0.9795023918721831,\n",
       " 'Mean Valid Recall': 0.9788472993542425,\n",
       " 'Mean Valid F1 Score': 0.9789574067617938}"
      ]
     },
     "execution_count": 28,
     "metadata": {},
     "output_type": "execute_result"
    }
   ],
   "source": [
    "# using the optimal hyperparameters test the model robustness using k-fold cross validation\n",
    "model_tuned = RandomForestClassifier(max_depth=10, min_samples_leaf=5, criterion='gini', random_state=2023)\n",
    "model_tuned.fit(X_train_full, y_train_full)\n",
    "cross_validation_func(model_tuned, X_train_full, y_train_full, 5)"
   ]
  },
  {
   "cell_type": "markdown",
   "id": "b128fabf-f17b-4e6d-bd93-f81a455a09ca",
   "metadata": {
    "id": "b128fabf-f17b-4e6d-bd93-f81a455a09ca"
   },
   "source": [
    "### Testing DT with optimal hyperparameters on unseen data"
   ]
  },
  {
   "cell_type": "code",
   "execution_count": 29,
   "id": "1d7703eb-0ab0-44e2-bb58-d2078d225afa",
   "metadata": {
    "executionInfo": {
     "elapsed": 3,
     "status": "ok",
     "timestamp": 1714494860705,
     "user": {
      "displayName": "Ann Maria John",
      "userId": "16447527053390695599"
     },
     "user_tz": 420
    },
    "id": "1d7703eb-0ab0-44e2-bb58-d2078d225afa",
    "tags": []
   },
   "outputs": [],
   "source": [
    "from sklearn.model_selection import learning_curve\n",
    "\n",
    "def plot_learning_curve(estimator, X, y, cv=None, train_sizes=np.linspace(0.1, 1.0, 5)):\n",
    "    train_sizes, train_scores, validation_scores = learning_curve(\n",
    "        estimator, X, y, cv=cv, train_sizes=train_sizes, scoring='accuracy')\n",
    "\n",
    "    train_scores_mean = np.mean(train_scores, axis=1)\n",
    "    train_scores_std = np.std(train_scores, axis=1)\n",
    "    validation_scores_mean = np.mean(validation_scores, axis=1)\n",
    "    validation_scores_std = np.std(validation_scores, axis=1)\n",
    "\n",
    "    plt.figure(figsize=(10, 6))\n",
    "    plt.fill_between(train_sizes, train_scores_mean - train_scores_std,\n",
    "                     train_scores_mean + train_scores_std, alpha=0.1, color='blue')\n",
    "    plt.fill_between(train_sizes, validation_scores_mean - validation_scores_std,\n",
    "                     validation_scores_mean + validation_scores_std, alpha=0.1, color='orange')\n",
    "    plt.plot(train_sizes, train_scores_mean, 'o-', color='blue', label='Training Score')\n",
    "    plt.plot(train_sizes, validation_scores_mean, 'o-', color='orange', label='Validation Score')\n",
    "    plt.title('Learning Curve')\n",
    "    plt.xlabel('Training Examples')\n",
    "    plt.ylabel('Score')\n",
    "    plt.legend(loc='best')\n",
    "    plt.show()"
   ]
  },
  {
   "cell_type": "code",
   "execution_count": 30,
   "id": "db663402-c062-4a8c-a5fc-359df901fc43",
   "metadata": {
    "colab": {
     "base_uri": "https://localhost:8080/",
     "height": 564
    },
    "executionInfo": {
     "elapsed": 57677,
     "status": "ok",
     "timestamp": 1714494918380,
     "user": {
      "displayName": "Ann Maria John",
      "userId": "16447527053390695599"
     },
     "user_tz": 420
    },
    "id": "db663402-c062-4a8c-a5fc-359df901fc43",
    "outputId": "f0985151-8e51-497b-a307-dffcecdc66ca",
    "tags": []
   },
   "outputs": [
    {
     "data": {
      "image/png": "[encoded data removed]",
      "text/plain": [
       "<Figure size 1000x600 with 1 Axes>"
      ]
     },
     "metadata": {},
     "output_type": "display_data"
    }
   ],
   "source": [
    "model_opt = RandomForestClassifier(max_depth=10, min_samples_leaf=5, criterion='gini', random_state=2023)\n",
    "model_opt.fit(X_train_full, y_train_full)\n",
    "y_pred_RF_opt = model.predict(X_test)\n",
    "plot_learning_curve(model_opt, X_train_full, y_train_full, cv=5)"
   ]
  },
  {
   "cell_type": "code",
   "execution_count": 31,
   "id": "9aef0401-0cd5-4975-a427-b99528ba4fcf",
   "metadata": {
    "colab": {
     "base_uri": "https://localhost:8080/",
     "height": 925
    },
    "executionInfo": {
     "elapsed": 518,
     "status": "ok",
     "timestamp": 1714494918894,
     "user": {
      "displayName": "Ann Maria John",
      "userId": "16447527053390695599"
     },
     "user_tz": 420
    },
    "id": "9aef0401-0cd5-4975-a427-b99528ba4fcf",
    "outputId": "3b98bf13-d18a-4a55-d2cb-541f92a6ad5b",
    "tags": []
   },
   "outputs": [
    {
     "name": "stdout",
     "output_type": "stream",
     "text": [
      "Classification report:\n",
      "               precision    recall  f1-score   support\n",
      "\n",
      "           0       0.99      0.99      0.99      3815\n",
      "           1       0.99      0.99      0.99      3720\n",
      "           2       1.00      0.99      1.00      3642\n",
      "\n",
      "    accuracy                           0.99     11177\n",
      "   macro avg       0.99      0.99      0.99     11177\n",
      "weighted avg       0.99      0.99      0.99     11177\n",
      "\n",
      "Confusion Matrix:\n",
      " [[3785   30    0]\n",
      " [  30 3685    5]\n",
      " [   0   26 3616]]\n"
     ]
    },
    {
     "data": {
      "image/png": "[encoded data removed]",
      "text/plain": [
       "<Figure size 640x480 with 2 Axes>"
      ]
     },
     "metadata": {},
     "output_type": "display_data"
    },
    {
     "name": "stdout",
     "output_type": "stream",
     "text": [
      "Accuracy: 0.9918582803972443\n",
      "Precision: 0.9918838111242895\n",
      "Recall: 0.9918582803972443\n",
      "Sensitivity: 0.9919246298788694\n",
      "Specificity: 0.9921363040629095\n",
      "F1-Score: 0.9918657287063835\n",
      "Cohen Kappa Score: 0.9877849784780032\n",
      "G_measure: 0.9918710455964769\n",
      "Informedness/Youdens statistic: 0.984060933941779\n",
      "PPV: 0.9919246298788694\n",
      "NPV: 0.9921363040629095\n",
      "Markedness: 0.984060933941779\n",
      "Matthews Correlation Coefficient 0.9840609339417791\n"
     ]
    }
   ],
   "source": [
    "metrics_calculation(y_test, y_pred_RF_opt, True)"
   ]
  },
  {
   "cell_type": "code",
   "execution_count": 32,
   "id": "ae462190-267d-4472-b5c5-58a5a9fbe440",
   "metadata": {
    "colab": {
     "base_uri": "https://localhost:8080/",
     "height": 735
    },
    "executionInfo": {
     "elapsed": 877,
     "status": "ok",
     "timestamp": 1714494919767,
     "user": {
      "displayName": "Ann Maria John",
      "userId": "16447527053390695599"
     },
     "user_tz": 420
    },
    "id": "ae462190-267d-4472-b5c5-58a5a9fbe440",
    "outputId": "36ab65cb-c51b-4a08-f175-1c2c96fa21a5",
    "tags": []
   },
   "outputs": [
    {
     "name": "stdout",
     "output_type": "stream",
     "text": [
      "ROC-AUC Score: 0.999921824375266\n"
     ]
    },
    {
     "data": {
      "image/png": "[encoded data removed]",
      "text/plain": [
       "<Figure size 800x800 with 1 Axes>"
      ]
     },
     "metadata": {},
     "output_type": "display_data"
    }
   ],
   "source": [
    "from sklearn.metrics import roc_curve, auc, roc_auc_score\n",
    "from sklearn.preprocessing import label_binarize\n",
    "\n",
    "# Predict probabilities for the test data\n",
    "y_pred_proba_RF_opt = model.predict_proba(X_valid)\n",
    "\n",
    "# Binarizing the output labels for multi-class\n",
    "classes = np.unique(y_train)\n",
    "y_valid_binarized = label_binarize(y_valid, classes=classes)\n",
    "\n",
    "# Calculate the ROC-AUC score\n",
    "roc_auc = roc_auc_score(y_valid_binarized, y_pred_proba_RF_opt, multi_class='ovo')\n",
    "print(\"ROC-AUC Score:\", roc_auc)\n",
    "\n",
    "# Plot the ROC curve for each class\n",
    "plt.figure(figsize=(8, 8))\n",
    "for i, class_name in enumerate(classes):\n",
    "    fpr, tpr, _ = roc_curve(y_valid_binarized[:, i], y_pred_proba_RF_opt[:, i])\n",
    "    plt.plot(fpr, tpr, lw=2, label=f'Class {class_name} (area = {auc(fpr, tpr):.2f})')\n",
    "\n",
    "plt.plot([0, 1], [0, 1], color='navy', lw=2, linestyle='--', label='Random Guess')\n",
    "plt.xlabel('False Positive Rate')\n",
    "plt.ylabel('True Positive Rate')\n",
    "plt.title('Receiver Operating Characteristic (ROC) Curve')\n",
    "plt.legend(loc='lower right')\n",
    "plt.show()"
   ]
  },
  {
   "cell_type": "code",
   "execution_count": null,
   "id": "Gb-XOMWOyWXx",
   "metadata": {
    "id": "Gb-XOMWOyWXx"
   },
   "outputs": [],
   "source": []
  }
 ],
 "metadata": {
  "colab": {
   "provenance": []
  },
  "kernelspec": {
   "display_name": "Python 3 (ipykernel)",
   "language": "python",
   "name": "python3"
  },
  "language_info": {
   "codemirror_mode": {
    "name": "ipython",
    "version": 3
   },
   "file_extension": ".py",
   "mimetype": "text/x-python",
   "name": "python",
   "nbconvert_exporter": "python",
   "pygments_lexer": "ipython3",
   "version": "3.11.5"
  }
 },
 "nbformat": 4,
 "nbformat_minor": 5
}
