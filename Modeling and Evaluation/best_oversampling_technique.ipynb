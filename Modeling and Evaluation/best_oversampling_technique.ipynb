{
 "cells": [
  {
   "cell_type": "code",
   "execution_count": 1,
   "id": "f1193510-a4d6-43c6-9a37-684da0d0bad1",
   "metadata": {
    "id": "f1193510-a4d6-43c6-9a37-684da0d0bad1",
    "tags": []
   },
   "outputs": [],
   "source": [
    "import os\n",
    "import numpy as np\n",
    "import pandas as pd\n",
    "\n",
    "import warnings\n",
    "\n",
    "# Ignore all warnings\n",
    "warnings.filterwarnings(\"ignore\")\n",
    "\n",
    "# Globally setting print options\n",
    "pd.set_option('display.max_columns', None)\n",
    "pd.set_option('display.max_rows', None)"
   ]
  },
  {
   "cell_type": "code",
   "execution_count": 2,
   "id": "6a695f47-bedd-4480-9f3e-58eb8bac4e3f",
   "metadata": {
    "colab": {
     "base_uri": "https://localhost:8080/",
     "height": 258
    },
    "executionInfo": {
     "elapsed": 371,
     "status": "ok",
     "timestamp": 1714502115511,
     "user": {
      "displayName": "Ann Maria John",
      "userId": "16447527053390695599"
     },
     "user_tz": 420
    },
    "id": "6a695f47-bedd-4480-9f3e-58eb8bac4e3f",
    "outputId": "83175428-a4fb-4409-d3a7-9f1bf9292167",
    "tags": []
   },
   "outputs": [
    {
     "data": {
      "text/html": [
       "<div>\n",
       "<style scoped>\n",
       "    .dataframe tbody tr th:only-of-type {\n",
       "        vertical-align: middle;\n",
       "    }\n",
       "\n",
       "    .dataframe tbody tr th {\n",
       "        vertical-align: top;\n",
       "    }\n",
       "\n",
       "    .dataframe thead th {\n",
       "        text-align: right;\n",
       "    }\n",
       "</style>\n",
       "<table border=\"1\" class=\"dataframe\">\n",
       "  <thead>\n",
       "    <tr style=\"text-align: right;\">\n",
       "      <th></th>\n",
       "      <th>Little_interest_in_doing_things</th>\n",
       "      <th>Feeling_down_or_depressed</th>\n",
       "      <th>Trouble_sleeping_or_sleeping_too_much</th>\n",
       "      <th>Feeling_tired_or_having_little_energy</th>\n",
       "      <th>Poor_appetite_or_overeating</th>\n",
       "      <th>Feeling_bad_about_yourself</th>\n",
       "      <th>Trouble_concentrating_on_things</th>\n",
       "      <th>Moving_or_speaking_slowly_or_too_fast</th>\n",
       "      <th>Thought_you_would_be_better_off_dead</th>\n",
       "      <th>No_of_hours_you_sleep</th>\n",
       "      <th>How_often_do_you_snore</th>\n",
       "      <th>How_often_do_you_snort/stop_breathing</th>\n",
       "      <th>trouble_sleeping</th>\n",
       "      <th>Sleep_Apnea</th>\n",
       "      <th>Blood_pressure</th>\n",
       "      <th>Taking_Medication_for_HBP</th>\n",
       "      <th>current_drinker</th>\n",
       "      <th>past_drinker</th>\n",
       "      <th>current_smoker</th>\n",
       "      <th>past_smoker</th>\n",
       "      <th>Gender</th>\n",
       "      <th>Age</th>\n",
       "      <th>Education_Level</th>\n",
       "      <th>Pregnant</th>\n",
       "      <th>PIR</th>\n",
       "      <th>Race_Non-Hispanic Black</th>\n",
       "      <th>Race_Non-Hispanic White</th>\n",
       "      <th>Race_Other Hispanic</th>\n",
       "      <th>Marital_Status_Married/Living with Partner</th>\n",
       "      <th>Marital_Status_Never Married</th>\n",
       "      <th>depression_category</th>\n",
       "    </tr>\n",
       "  </thead>\n",
       "  <tbody>\n",
       "    <tr>\n",
       "      <th>0</th>\n",
       "      <td>0.0</td>\n",
       "      <td>0.0</td>\n",
       "      <td>0.0</td>\n",
       "      <td>0.0</td>\n",
       "      <td>0.0</td>\n",
       "      <td>0.0</td>\n",
       "      <td>0.0</td>\n",
       "      <td>0.0</td>\n",
       "      <td>0.0</td>\n",
       "      <td>8.0</td>\n",
       "      <td>0.0</td>\n",
       "      <td>0.0</td>\n",
       "      <td>0.0</td>\n",
       "      <td>0.0</td>\n",
       "      <td>1.0</td>\n",
       "      <td>1.0</td>\n",
       "      <td>0.0</td>\n",
       "      <td>0.0</td>\n",
       "      <td>0</td>\n",
       "      <td>0</td>\n",
       "      <td>2</td>\n",
       "      <td>85</td>\n",
       "      <td>3</td>\n",
       "      <td>0.0</td>\n",
       "      <td>1.99</td>\n",
       "      <td>0</td>\n",
       "      <td>1</td>\n",
       "      <td>0</td>\n",
       "      <td>0</td>\n",
       "      <td>0</td>\n",
       "      <td>0</td>\n",
       "    </tr>\n",
       "    <tr>\n",
       "      <th>1</th>\n",
       "      <td>0.0</td>\n",
       "      <td>0.0</td>\n",
       "      <td>0.0</td>\n",
       "      <td>0.0</td>\n",
       "      <td>0.0</td>\n",
       "      <td>0.0</td>\n",
       "      <td>0.0</td>\n",
       "      <td>0.0</td>\n",
       "      <td>0.0</td>\n",
       "      <td>9.0</td>\n",
       "      <td>1.0</td>\n",
       "      <td>0.0</td>\n",
       "      <td>0.0</td>\n",
       "      <td>0.0</td>\n",
       "      <td>1.0</td>\n",
       "      <td>1.0</td>\n",
       "      <td>0.0</td>\n",
       "      <td>1.0</td>\n",
       "      <td>0</td>\n",
       "      <td>0</td>\n",
       "      <td>2</td>\n",
       "      <td>44</td>\n",
       "      <td>3</td>\n",
       "      <td>0.0</td>\n",
       "      <td>4.65</td>\n",
       "      <td>0</td>\n",
       "      <td>1</td>\n",
       "      <td>0</td>\n",
       "      <td>1</td>\n",
       "      <td>0</td>\n",
       "      <td>0</td>\n",
       "    </tr>\n",
       "    <tr>\n",
       "      <th>2</th>\n",
       "      <td>0.0</td>\n",
       "      <td>0.0</td>\n",
       "      <td>0.0</td>\n",
       "      <td>0.0</td>\n",
       "      <td>0.0</td>\n",
       "      <td>0.0</td>\n",
       "      <td>0.0</td>\n",
       "      <td>0.0</td>\n",
       "      <td>0.0</td>\n",
       "      <td>7.0</td>\n",
       "      <td>3.0</td>\n",
       "      <td>0.0</td>\n",
       "      <td>0.0</td>\n",
       "      <td>0.0</td>\n",
       "      <td>1.0</td>\n",
       "      <td>1.0</td>\n",
       "      <td>1.0</td>\n",
       "      <td>0.0</td>\n",
       "      <td>0</td>\n",
       "      <td>0</td>\n",
       "      <td>1</td>\n",
       "      <td>70</td>\n",
       "      <td>4</td>\n",
       "      <td>0.0</td>\n",
       "      <td>5.00</td>\n",
       "      <td>0</td>\n",
       "      <td>1</td>\n",
       "      <td>0</td>\n",
       "      <td>1</td>\n",
       "      <td>0</td>\n",
       "      <td>0</td>\n",
       "    </tr>\n",
       "    <tr>\n",
       "      <th>3</th>\n",
       "      <td>0.0</td>\n",
       "      <td>0.0</td>\n",
       "      <td>0.0</td>\n",
       "      <td>0.0</td>\n",
       "      <td>0.0</td>\n",
       "      <td>0.0</td>\n",
       "      <td>0.0</td>\n",
       "      <td>0.0</td>\n",
       "      <td>0.0</td>\n",
       "      <td>7.0</td>\n",
       "      <td>0.0</td>\n",
       "      <td>0.0</td>\n",
       "      <td>1.0</td>\n",
       "      <td>0.0</td>\n",
       "      <td>1.0</td>\n",
       "      <td>1.0</td>\n",
       "      <td>1.0</td>\n",
       "      <td>0.0</td>\n",
       "      <td>0</td>\n",
       "      <td>0</td>\n",
       "      <td>1</td>\n",
       "      <td>73</td>\n",
       "      <td>2</td>\n",
       "      <td>0.0</td>\n",
       "      <td>2.15</td>\n",
       "      <td>0</td>\n",
       "      <td>1</td>\n",
       "      <td>0</td>\n",
       "      <td>1</td>\n",
       "      <td>0</td>\n",
       "      <td>0</td>\n",
       "    </tr>\n",
       "    <tr>\n",
       "      <th>4</th>\n",
       "      <td>0.0</td>\n",
       "      <td>0.0</td>\n",
       "      <td>0.0</td>\n",
       "      <td>0.0</td>\n",
       "      <td>0.0</td>\n",
       "      <td>0.0</td>\n",
       "      <td>0.0</td>\n",
       "      <td>0.0</td>\n",
       "      <td>0.0</td>\n",
       "      <td>8.0</td>\n",
       "      <td>0.0</td>\n",
       "      <td>0.0</td>\n",
       "      <td>0.0</td>\n",
       "      <td>0.0</td>\n",
       "      <td>1.0</td>\n",
       "      <td>1.0</td>\n",
       "      <td>1.0</td>\n",
       "      <td>0.0</td>\n",
       "      <td>0</td>\n",
       "      <td>0</td>\n",
       "      <td>1</td>\n",
       "      <td>21</td>\n",
       "      <td>2</td>\n",
       "      <td>0.0</td>\n",
       "      <td>0.46</td>\n",
       "      <td>0</td>\n",
       "      <td>1</td>\n",
       "      <td>0</td>\n",
       "      <td>0</td>\n",
       "      <td>1</td>\n",
       "      <td>0</td>\n",
       "    </tr>\n",
       "  </tbody>\n",
       "</table>\n",
       "</div>"
      ],
      "text/plain": [
       "   Little_interest_in_doing_things  Feeling_down_or_depressed  \\\n",
       "0                              0.0                        0.0   \n",
       "1                              0.0                        0.0   \n",
       "2                              0.0                        0.0   \n",
       "3                              0.0                        0.0   \n",
       "4                              0.0                        0.0   \n",
       "\n",
       "   Trouble_sleeping_or_sleeping_too_much  \\\n",
       "0                                    0.0   \n",
       "1                                    0.0   \n",
       "2                                    0.0   \n",
       "3                                    0.0   \n",
       "4                                    0.0   \n",
       "\n",
       "   Feeling_tired_or_having_little_energy  Poor_appetite_or_overeating  \\\n",
       "0                                    0.0                          0.0   \n",
       "1                                    0.0                          0.0   \n",
       "2                                    0.0                          0.0   \n",
       "3                                    0.0                          0.0   \n",
       "4                                    0.0                          0.0   \n",
       "\n",
       "   Feeling_bad_about_yourself  Trouble_concentrating_on_things  \\\n",
       "0                         0.0                              0.0   \n",
       "1                         0.0                              0.0   \n",
       "2                         0.0                              0.0   \n",
       "3                         0.0                              0.0   \n",
       "4                         0.0                              0.0   \n",
       "\n",
       "   Moving_or_speaking_slowly_or_too_fast  \\\n",
       "0                                    0.0   \n",
       "1                                    0.0   \n",
       "2                                    0.0   \n",
       "3                                    0.0   \n",
       "4                                    0.0   \n",
       "\n",
       "   Thought_you_would_be_better_off_dead  No_of_hours_you_sleep  \\\n",
       "0                                   0.0                    8.0   \n",
       "1                                   0.0                    9.0   \n",
       "2                                   0.0                    7.0   \n",
       "3                                   0.0                    7.0   \n",
       "4                                   0.0                    8.0   \n",
       "\n",
       "   How_often_do_you_snore  How_often_do_you_snort/stop_breathing  \\\n",
       "0                     0.0                                    0.0   \n",
       "1                     1.0                                    0.0   \n",
       "2                     3.0                                    0.0   \n",
       "3                     0.0                                    0.0   \n",
       "4                     0.0                                    0.0   \n",
       "\n",
       "   trouble_sleeping  Sleep_Apnea  Blood_pressure  Taking_Medication_for_HBP  \\\n",
       "0               0.0          0.0             1.0                        1.0   \n",
       "1               0.0          0.0             1.0                        1.0   \n",
       "2               0.0          0.0             1.0                        1.0   \n",
       "3               1.0          0.0             1.0                        1.0   \n",
       "4               0.0          0.0             1.0                        1.0   \n",
       "\n",
       "   current_drinker  past_drinker  current_smoker  past_smoker  Gender  Age  \\\n",
       "0              0.0           0.0               0            0       2   85   \n",
       "1              0.0           1.0               0            0       2   44   \n",
       "2              1.0           0.0               0            0       1   70   \n",
       "3              1.0           0.0               0            0       1   73   \n",
       "4              1.0           0.0               0            0       1   21   \n",
       "\n",
       "   Education_Level  Pregnant   PIR  Race_Non-Hispanic Black  \\\n",
       "0                3       0.0  1.99                        0   \n",
       "1                3       0.0  4.65                        0   \n",
       "2                4       0.0  5.00                        0   \n",
       "3                2       0.0  2.15                        0   \n",
       "4                2       0.0  0.46                        0   \n",
       "\n",
       "   Race_Non-Hispanic White  Race_Other Hispanic  \\\n",
       "0                        1                    0   \n",
       "1                        1                    0   \n",
       "2                        1                    0   \n",
       "3                        1                    0   \n",
       "4                        1                    0   \n",
       "\n",
       "   Marital_Status_Married/Living with Partner  Marital_Status_Never Married  \\\n",
       "0                                           0                             0   \n",
       "1                                           1                             0   \n",
       "2                                           1                             0   \n",
       "3                                           1                             0   \n",
       "4                                           0                             1   \n",
       "\n",
       "   depression_category  \n",
       "0                    0  \n",
       "1                    0  \n",
       "2                    0  \n",
       "3                    0  \n",
       "4                    0  "
      ]
     },
     "execution_count": 2,
     "metadata": {},
     "output_type": "execute_result"
    }
   ],
   "source": [
    "data = pd.read_csv('preprocessed_data.csv')\n",
    "data.head()"
   ]
  },
  {
   "cell_type": "code",
   "execution_count": 3,
   "id": "4c91397b-f9d4-486c-bebd-548785654de4",
   "metadata": {
    "colab": {
     "base_uri": "https://localhost:8080/"
    },
    "executionInfo": {
     "elapsed": 137,
     "status": "ok",
     "timestamp": 1714502116476,
     "user": {
      "displayName": "Ann Maria John",
      "userId": "16447527053390695599"
     },
     "user_tz": 420
    },
    "id": "4c91397b-f9d4-486c-bebd-548785654de4",
    "outputId": "de69516c-2831-4f60-b04a-8e07ef7d98a9",
    "tags": []
   },
   "outputs": [
    {
     "data": {
      "text/plain": [
       "(24108, 31)"
      ]
     },
     "execution_count": 3,
     "metadata": {},
     "output_type": "execute_result"
    }
   ],
   "source": [
    "data.shape"
   ]
  },
  {
   "cell_type": "code",
   "execution_count": 4,
   "id": "63a18549-d489-42dd-bcc9-380a3d301714",
   "metadata": {
    "colab": {
     "base_uri": "https://localhost:8080/"
    },
    "executionInfo": {
     "elapsed": 142,
     "status": "ok",
     "timestamp": 1714502116950,
     "user": {
      "displayName": "Ann Maria John",
      "userId": "16447527053390695599"
     },
     "user_tz": 420
    },
    "id": "63a18549-d489-42dd-bcc9-380a3d301714",
    "outputId": "8244aa0f-16ef-437e-a455-8b9d52f1cd1e",
    "tags": []
   },
   "outputs": [
    {
     "name": "stdout",
     "output_type": "stream",
     "text": [
      "<class 'pandas.core.frame.DataFrame'>\n",
      "RangeIndex: 24108 entries, 0 to 24107\n",
      "Data columns (total 31 columns):\n",
      " #   Column                                      Non-Null Count  Dtype  \n",
      "---  ------                                      --------------  -----  \n",
      " 0   Little_interest_in_doing_things             24108 non-null  float64\n",
      " 1   Feeling_down_or_depressed                   24108 non-null  float64\n",
      " 2   Trouble_sleeping_or_sleeping_too_much       24108 non-null  float64\n",
      " 3   Feeling_tired_or_having_little_energy       24108 non-null  float64\n",
      " 4   Poor_appetite_or_overeating                 24108 non-null  float64\n",
      " 5   Feeling_bad_about_yourself                  24108 non-null  float64\n",
      " 6   Trouble_concentrating_on_things             24108 non-null  float64\n",
      " 7   Moving_or_speaking_slowly_or_too_fast       24108 non-null  float64\n",
      " 8   Thought_you_would_be_better_off_dead        24108 non-null  float64\n",
      " 9   No_of_hours_you_sleep                       24108 non-null  float64\n",
      " 10  How_often_do_you_snore                      24108 non-null  float64\n",
      " 11  How_often_do_you_snort/stop_breathing       24108 non-null  float64\n",
      " 12  trouble_sleeping                            24108 non-null  float64\n",
      " 13  Sleep_Apnea                                 24108 non-null  float64\n",
      " 14  Blood_pressure                              24108 non-null  float64\n",
      " 15  Taking_Medication_for_HBP                   24108 non-null  float64\n",
      " 16  current_drinker                             24108 non-null  float64\n",
      " 17  past_drinker                                24108 non-null  float64\n",
      " 18  current_smoker                              24108 non-null  int64  \n",
      " 19  past_smoker                                 24108 non-null  int64  \n",
      " 20  Gender                                      24108 non-null  int64  \n",
      " 21  Age                                         24108 non-null  int64  \n",
      " 22  Education_Level                             24108 non-null  int64  \n",
      " 23  Pregnant                                    24108 non-null  float64\n",
      " 24  PIR                                         24108 non-null  float64\n",
      " 25  Race_Non-Hispanic Black                     24108 non-null  int64  \n",
      " 26  Race_Non-Hispanic White                     24108 non-null  int64  \n",
      " 27  Race_Other Hispanic                         24108 non-null  int64  \n",
      " 28  Marital_Status_Married/Living with Partner  24108 non-null  int64  \n",
      " 29  Marital_Status_Never Married                24108 non-null  int64  \n",
      " 30  depression_category                         24108 non-null  int64  \n",
      "dtypes: float64(20), int64(11)\n",
      "memory usage: 5.7 MB\n"
     ]
    }
   ],
   "source": [
    "data.info()"
   ]
  },
  {
   "cell_type": "code",
   "execution_count": 5,
   "id": "97c3c59c-ea79-499e-b7ee-9f3ad330b99a",
   "metadata": {
    "colab": {
     "base_uri": "https://localhost:8080/"
    },
    "executionInfo": {
     "elapsed": 141,
     "status": "ok",
     "timestamp": 1714502118724,
     "user": {
      "displayName": "Ann Maria John",
      "userId": "16447527053390695599"
     },
     "user_tz": 420
    },
    "id": "97c3c59c-ea79-499e-b7ee-9f3ad330b99a",
    "outputId": "aa3bde4f-d56b-4a51-b1b2-a4802e1bc22e",
    "tags": []
   },
   "outputs": [
    {
     "data": {
      "text/plain": [
       "27"
      ]
     },
     "execution_count": 5,
     "metadata": {},
     "output_type": "execute_result"
    }
   ],
   "source": [
    "# Check for duplicates\n",
    "\n",
    "data.duplicated().sum()"
   ]
  },
  {
   "cell_type": "code",
   "execution_count": 6,
   "id": "rQsIQlyVvhjL",
   "metadata": {
    "id": "rQsIQlyVvhjL",
    "tags": []
   },
   "outputs": [],
   "source": [
    "# Remove duplicate rows\n",
    "data = data.drop_duplicates()"
   ]
  },
  {
   "cell_type": "code",
   "execution_count": 7,
   "id": "ZygVx5EnvnT4",
   "metadata": {
    "colab": {
     "base_uri": "https://localhost:8080/"
    },
    "executionInfo": {
     "elapsed": 202,
     "status": "ok",
     "timestamp": 1714502120399,
     "user": {
      "displayName": "Ann Maria John",
      "userId": "16447527053390695599"
     },
     "user_tz": 420
    },
    "id": "ZygVx5EnvnT4",
    "outputId": "8bbb59d4-c3a1-4f1b-a345-8adc5afe671b",
    "tags": []
   },
   "outputs": [
    {
     "data": {
      "text/plain": [
       "0"
      ]
     },
     "execution_count": 7,
     "metadata": {},
     "output_type": "execute_result"
    }
   ],
   "source": [
    "data.duplicated().sum()"
   ]
  },
  {
   "cell_type": "code",
   "execution_count": 8,
   "id": "6b11426e-63df-454f-ae65-5e8c72573fad",
   "metadata": {
    "colab": {
     "base_uri": "https://localhost:8080/"
    },
    "executionInfo": {
     "elapsed": 195,
     "status": "ok",
     "timestamp": 1714502120783,
     "user": {
      "displayName": "Ann Maria John",
      "userId": "16447527053390695599"
     },
     "user_tz": 420
    },
    "id": "6b11426e-63df-454f-ae65-5e8c72573fad",
    "outputId": "15ae2a33-f9be-4b6f-96d1-972e217c15a1",
    "tags": []
   },
   "outputs": [
    {
     "data": {
      "text/plain": [
       "Little_interest_in_doing_things               0\n",
       "Feeling_down_or_depressed                     0\n",
       "Trouble_sleeping_or_sleeping_too_much         0\n",
       "Feeling_tired_or_having_little_energy         0\n",
       "Poor_appetite_or_overeating                   0\n",
       "Feeling_bad_about_yourself                    0\n",
       "Trouble_concentrating_on_things               0\n",
       "Moving_or_speaking_slowly_or_too_fast         0\n",
       "Thought_you_would_be_better_off_dead          0\n",
       "No_of_hours_you_sleep                         0\n",
       "How_often_do_you_snore                        0\n",
       "How_often_do_you_snort/stop_breathing         0\n",
       "trouble_sleeping                              0\n",
       "Sleep_Apnea                                   0\n",
       "Blood_pressure                                0\n",
       "Taking_Medication_for_HBP                     0\n",
       "current_drinker                               0\n",
       "past_drinker                                  0\n",
       "current_smoker                                0\n",
       "past_smoker                                   0\n",
       "Gender                                        0\n",
       "Age                                           0\n",
       "Education_Level                               0\n",
       "Pregnant                                      0\n",
       "PIR                                           0\n",
       "Race_Non-Hispanic Black                       0\n",
       "Race_Non-Hispanic White                       0\n",
       "Race_Other Hispanic                           0\n",
       "Marital_Status_Married/Living with Partner    0\n",
       "Marital_Status_Never Married                  0\n",
       "depression_category                           0\n",
       "dtype: int64"
      ]
     },
     "execution_count": 8,
     "metadata": {},
     "output_type": "execute_result"
    }
   ],
   "source": [
    "# Check for missing values\n",
    "data.isnull().sum()"
   ]
  },
  {
   "cell_type": "markdown",
   "id": "42592641-f5db-4719-a191-cdcba8883f1d",
   "metadata": {
    "id": "42592641-f5db-4719-a191-cdcba8883f1d"
   },
   "source": [
    "### Split data into X and y"
   ]
  },
  {
   "cell_type": "code",
   "execution_count": 9,
   "id": "0b024af3-19bf-494b-9920-ee88289270f8",
   "metadata": {
    "id": "0b024af3-19bf-494b-9920-ee88289270f8",
    "tags": []
   },
   "outputs": [],
   "source": [
    "y = data['depression_category']\n",
    "X = data.drop(columns=['depression_category'])"
   ]
  },
  {
   "cell_type": "code",
   "execution_count": 10,
   "id": "1aee7956-c9b2-4d35-ae94-b1898dcd8965",
   "metadata": {
    "colab": {
     "base_uri": "https://localhost:8080/"
    },
    "executionInfo": {
     "elapsed": 143,
     "status": "ok",
     "timestamp": 1714502123944,
     "user": {
      "displayName": "Ann Maria John",
      "userId": "16447527053390695599"
     },
     "user_tz": 420
    },
    "id": "1aee7956-c9b2-4d35-ae94-b1898dcd8965",
    "outputId": "3765b7e1-f810-4022-c46b-4925ded75ea0",
    "tags": []
   },
   "outputs": [
    {
     "data": {
      "text/plain": [
       "((24081, 30), (24081,))"
      ]
     },
     "execution_count": 10,
     "metadata": {},
     "output_type": "execute_result"
    }
   ],
   "source": [
    "X.shape, y.shape"
   ]
  },
  {
   "cell_type": "markdown",
   "id": "9f8945ac-c2c1-4954-9447-e41248868627",
   "metadata": {
    "id": "9f8945ac-c2c1-4954-9447-e41248868627",
    "tags": []
   },
   "source": [
    "### Handling class imbalance - Finding the best oversampling technique"
   ]
  },
  {
   "cell_type": "code",
   "execution_count": 11,
   "id": "hiTFZTP-Srei",
   "metadata": {
    "colab": {
     "base_uri": "https://localhost:8080/"
    },
    "executionInfo": {
     "elapsed": 7,
     "status": "ok",
     "timestamp": 1714502168641,
     "user": {
      "displayName": "Ann Maria John",
      "userId": "16447527053390695599"
     },
     "user_tz": 420
    },
    "id": "hiTFZTP-Srei",
    "outputId": "cd932f69-da5e-445a-8d61-b097a093a6eb",
    "tags": []
   },
   "outputs": [
    {
     "data": {
      "text/plain": [
       "depression_category\n",
       "0    18628\n",
       "1     3303\n",
       "2     2150\n",
       "Name: count, dtype: int64"
      ]
     },
     "execution_count": 11,
     "metadata": {},
     "output_type": "execute_result"
    }
   ],
   "source": [
    "data['depression_category'].value_counts()"
   ]
  },
  {
   "cell_type": "code",
   "execution_count": 13,
   "id": "xa8wv5sQ358I",
   "metadata": {
    "id": "xa8wv5sQ358I",
    "tags": []
   },
   "outputs": [],
   "source": [
    "from sklearn.linear_model import LogisticRegression\n",
    "from sklearn.ensemble import RandomForestClassifier\n",
    "from sklearn.tree import DecisionTreeClassifier\n",
    "\n",
    "# models\n",
    "def models(X_train,y_train,model):\n",
    "    if model== 'Decision Tree':\n",
    "        clf=DecisionTreeClassifier(criterion='gini',max_depth=10,min_samples_leaf=5)\n",
    "    else:\n",
    "        clf=RandomForestClassifier(n_estimators=100,criterion='entropy',max_depth=10)\n",
    "\n",
    "    clf.fit(X_train,y_train)\n",
    "    y_pred=clf.predict(X_test)\n",
    "    return y_pred"
   ]
  },
  {
   "cell_type": "code",
   "execution_count": 14,
   "id": "gxAW1z304FtW",
   "metadata": {
    "id": "gxAW1z304FtW",
    "tags": []
   },
   "outputs": [],
   "source": [
    "# Evaluation metrics\n",
    "def metrics_calculation(y_actual, y_predicted, model, samp_method):\n",
    "    from sklearn import metrics\n",
    "\n",
    "    #Accuracy\n",
    "    accuracy =metrics.accuracy_score(y_actual, y_predicted)\n",
    "\n",
    "    #precision\n",
    "    precision=metrics.precision_score(y_actual, y_predicted, average='weighted')\n",
    "\n",
    "    #Recall\n",
    "    recall=metrics.recall_score(y_actual, y_predicted, average='weighted')\n",
    "\n",
    "    #f1-score\n",
    "    f1_score = metrics.f1_score(y_actual,y_predicted, average='weighted')\n",
    "\n",
    "    results={'Model':model,'Oversampling Method': samp_method,\"Accuracy\":accuracy,\"Precision\":precision,\"Recall\":recall,\"F1-Score\":f1_score}\n",
    "\n",
    "    return results"
   ]
  },
  {
   "cell_type": "code",
   "execution_count": 15,
   "id": "QawDOKC61eVz",
   "metadata": {
    "id": "QawDOKC61eVz",
    "tags": []
   },
   "outputs": [],
   "source": [
    "# oversampling techniques\n",
    "\n",
    "from imblearn.over_sampling import SMOTE, BorderlineSMOTE, ADASYN, SMOTENC\n",
    "\n",
    "def oversample_data(X, y, method='smote', sampling_strategy='auto', random_state=42):\n",
    "    if method == 'smote':\n",
    "        oversampler = SMOTE(sampling_strategy=sampling_strategy, random_state=random_state)\n",
    "    elif method == 'borderline':\n",
    "        oversampler = BorderlineSMOTE(sampling_strategy=sampling_strategy, random_state=random_state)\n",
    "    elif method == 'adasyn':\n",
    "        oversampler = ADASYN(sampling_strategy=sampling_strategy, random_state=random_state)\n",
    "    elif method == 'smotenc':\n",
    "        categorical_features = [True] * X.shape[1]\n",
    "        categorical_features[1] = False\n",
    "        oversampler = SMOTENC(sampling_strategy=sampling_strategy, categorical_features=categorical_features, random_state=random_state)\n",
    "    else:\n",
    "        raise ValueError(\"Invalid oversampling method\")\n",
    "\n",
    "    X_resampled, y_resampled = oversampler.fit_resample(X_train, y_train)\n",
    "    return X_resampled, y_resampled"
   ]
  },
  {
   "cell_type": "code",
   "execution_count": 16,
   "id": "xaVvrvH71fPl",
   "metadata": {
    "colab": {
     "base_uri": "https://localhost:8080/",
     "height": 297
    },
    "executionInfo": {
     "elapsed": 82292,
     "status": "ok",
     "timestamp": 1714502256013,
     "user": {
      "displayName": "Ann Maria John",
      "userId": "16447527053390695599"
     },
     "user_tz": 420
    },
    "id": "xaVvrvH71fPl",
    "outputId": "ecf4f817-57ba-44ed-9ea1-d9167d2d83c5",
    "tags": []
   },
   "outputs": [
    {
     "data": {
      "text/html": [
       "<div>\n",
       "<style scoped>\n",
       "    .dataframe tbody tr th:only-of-type {\n",
       "        vertical-align: middle;\n",
       "    }\n",
       "\n",
       "    .dataframe tbody tr th {\n",
       "        vertical-align: top;\n",
       "    }\n",
       "\n",
       "    .dataframe thead th {\n",
       "        text-align: right;\n",
       "    }\n",
       "</style>\n",
       "<table border=\"1\" class=\"dataframe\">\n",
       "  <thead>\n",
       "    <tr style=\"text-align: right;\">\n",
       "      <th></th>\n",
       "      <th>Model</th>\n",
       "      <th>Oversampling Method</th>\n",
       "      <th>Accuracy</th>\n",
       "      <th>Precision</th>\n",
       "      <th>Recall</th>\n",
       "      <th>F1-Score</th>\n",
       "    </tr>\n",
       "  </thead>\n",
       "  <tbody>\n",
       "    <tr>\n",
       "      <th>0</th>\n",
       "      <td>Decision Tree</td>\n",
       "      <td>smote</td>\n",
       "      <td>0.936555</td>\n",
       "      <td>0.940143</td>\n",
       "      <td>0.936555</td>\n",
       "      <td>0.937929</td>\n",
       "    </tr>\n",
       "    <tr>\n",
       "      <th>1</th>\n",
       "      <td>Decision Tree</td>\n",
       "      <td>borderline</td>\n",
       "      <td>0.938382</td>\n",
       "      <td>0.942990</td>\n",
       "      <td>0.938382</td>\n",
       "      <td>0.939933</td>\n",
       "    </tr>\n",
       "    <tr>\n",
       "      <th>2</th>\n",
       "      <td>Decision Tree</td>\n",
       "      <td>adasyn</td>\n",
       "      <td>0.937884</td>\n",
       "      <td>0.940597</td>\n",
       "      <td>0.937884</td>\n",
       "      <td>0.938937</td>\n",
       "    </tr>\n",
       "    <tr>\n",
       "      <th>3</th>\n",
       "      <td>Decision Tree</td>\n",
       "      <td>smotenc</td>\n",
       "      <td>0.906328</td>\n",
       "      <td>0.920338</td>\n",
       "      <td>0.906328</td>\n",
       "      <td>0.911290</td>\n",
       "    </tr>\n",
       "    <tr>\n",
       "      <th>4</th>\n",
       "      <td>Random Forest</td>\n",
       "      <td>smote</td>\n",
       "      <td>0.958645</td>\n",
       "      <td>0.962581</td>\n",
       "      <td>0.958645</td>\n",
       "      <td>0.959412</td>\n",
       "    </tr>\n",
       "    <tr>\n",
       "      <th>5</th>\n",
       "      <td>Random Forest</td>\n",
       "      <td>borderline</td>\n",
       "      <td>0.963129</td>\n",
       "      <td>0.965866</td>\n",
       "      <td>0.963129</td>\n",
       "      <td>0.963777</td>\n",
       "    </tr>\n",
       "    <tr>\n",
       "      <th>6</th>\n",
       "      <td>Random Forest</td>\n",
       "      <td>adasyn</td>\n",
       "      <td>0.954659</td>\n",
       "      <td>0.958756</td>\n",
       "      <td>0.954659</td>\n",
       "      <td>0.955337</td>\n",
       "    </tr>\n",
       "    <tr>\n",
       "      <th>7</th>\n",
       "      <td>Random Forest</td>\n",
       "      <td>smotenc</td>\n",
       "      <td>0.920943</td>\n",
       "      <td>0.939261</td>\n",
       "      <td>0.920943</td>\n",
       "      <td>0.926207</td>\n",
       "    </tr>\n",
       "  </tbody>\n",
       "</table>\n",
       "</div>"
      ],
      "text/plain": [
       "           Model Oversampling Method  Accuracy  Precision    Recall  F1-Score\n",
       "0  Decision Tree               smote  0.936555   0.940143  0.936555  0.937929\n",
       "1  Decision Tree          borderline  0.938382   0.942990  0.938382  0.939933\n",
       "2  Decision Tree              adasyn  0.937884   0.940597  0.937884  0.938937\n",
       "3  Decision Tree             smotenc  0.906328   0.920338  0.906328  0.911290\n",
       "4  Random Forest               smote  0.958645   0.962581  0.958645  0.959412\n",
       "5  Random Forest          borderline  0.963129   0.965866  0.963129  0.963777\n",
       "6  Random Forest              adasyn  0.954659   0.958756  0.954659  0.955337\n",
       "7  Random Forest             smotenc  0.920943   0.939261  0.920943  0.926207"
      ]
     },
     "execution_count": 16,
     "metadata": {},
     "output_type": "execute_result"
    }
   ],
   "source": [
    "# Evaluting oversampling techniques\n",
    "\n",
    "from sklearn.model_selection import train_test_split\n",
    "\n",
    "classifiers= ['Decision Tree','Random Forest']\n",
    "oversampling_methods = ['smote', 'borderline', 'adasyn','smotenc']\n",
    "\n",
    "#Oversampling models\n",
    "eval_metrics=[]\n",
    "for model in classifiers:\n",
    "    for samp_method in oversampling_methods:\n",
    "        X_train, X_test, y_train, y_test=train_test_split(X,y)\n",
    "        # Apply oversampling using the oversample_data function\n",
    "        X_resampled, y_resampled= oversample_data(X_train, y_train, method=samp_method)\n",
    "        y_pred=models(X_resampled, y_resampled,model)\n",
    "        metrics=metrics_calculation(y_test,y_pred,model,samp_method)\n",
    "        eval_metrics.append(metrics)\n",
    "\n",
    "evaluation_df = pd.DataFrame(eval_metrics)\n",
    "evaluation_df"
   ]
  },
  {
   "cell_type": "code",
   "execution_count": 17,
   "id": "2Y881IEo9BZA",
   "metadata": {
    "colab": {
     "base_uri": "https://localhost:8080/",
     "height": 650
    },
    "executionInfo": {
     "elapsed": 281,
     "status": "ok",
     "timestamp": 1714502256237,
     "user": {
      "displayName": "Ann Maria John",
      "userId": "16447527053390695599"
     },
     "user_tz": 420
    },
    "id": "2Y881IEo9BZA",
    "outputId": "612c0e59-85fe-41d7-cded-4a2be3e96d73",
    "tags": []
   },
   "outputs": [
    {
     "data": {
      "text/plain": [
       "<Figure size 2000x1000 with 0 Axes>"
      ]
     },
     "metadata": {},
     "output_type": "display_data"
    },
    {
     "data": {
      "image/png": "[encoded data removed]",
      "text/plain": [
       "<Figure size 884.486x600 with 1 Axes>"
      ]
     },
     "metadata": {},
     "output_type": "display_data"
    }
   ],
   "source": [
    "import seaborn as sns\n",
    "import matplotlib.pyplot as plt\n",
    "\n",
    "# Set up the plot\n",
    "plt.figure(figsize=(20, 10))\n",
    "\n",
    "# Grouped bar plot using seaborn catplot\n",
    "g=sns.catplot(\n",
    "    x='Model',\n",
    "    y='F1-Score',\n",
    "    hue='Oversampling Method',\n",
    "    data=evaluation_df,\n",
    "    kind='bar',\n",
    "    height=6,  # Set the height of each facet\n",
    "    aspect=1.2,  # Adjust the width of each facet\n",
    "    ci=None,  # Disable error bars for clarity\n",
    "    palette='muted',  # Choose a color palette\n",
    "    dodge=True,  # Separate bars for each classifier within each oversampling method\n",
    ")\n",
    "\n",
    "# Customize the plot\n",
    "g.fig.suptitle('F1-Score vs Oversampling Methods', y=1.02)\n",
    "for ax in g.axes.flat:\n",
    "    for p in ax.patches:\n",
    "        ax.text(p.get_x() + p.get_width() / 2., p.get_height(), f'{p.get_height():.2f}',\n",
    "                ha='center', va='bottom', color='black', fontsize=10)\n",
    "plt.xlabel('Model')\n",
    "plt.ylabel('F1-Score')\n",
    "#plt.legend(title='Classifier')\n",
    "\n",
    "# Show the plot\n",
    "plt.show()"
   ]
  },
  {
   "cell_type": "code",
   "execution_count": 18,
   "id": "Me-lu_No99KW",
   "metadata": {
    "id": "Me-lu_No99KW",
    "tags": []
   },
   "outputs": [],
   "source": [
    "g.savefig('evaluting_oversampling_techniques.png', format='png', bbox_inches='tight')"
   ]
  },
  {
   "cell_type": "code",
   "execution_count": null,
   "id": "vOlET4uIUUgf",
   "metadata": {
    "id": "vOlET4uIUUgf"
   },
   "outputs": [],
   "source": []
  }
 ],
 "metadata": {
  "colab": {
   "provenance": []
  },
  "kernelspec": {
   "display_name": "Python 3 (ipykernel)",
   "language": "python",
   "name": "python3"
  },
  "language_info": {
   "codemirror_mode": {
    "name": "ipython",
    "version": 3
   },
   "file_extension": ".py",
   "mimetype": "text/x-python",
   "name": "python",
   "nbconvert_exporter": "python",
   "pygments_lexer": "ipython3",
   "version": "3.11.5"
  }
 },
 "nbformat": 4,
 "nbformat_minor": 5
}
